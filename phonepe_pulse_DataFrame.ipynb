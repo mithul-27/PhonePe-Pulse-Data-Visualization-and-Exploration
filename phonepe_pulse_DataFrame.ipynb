{
 "cells": [
  {
   "cell_type": "code",
   "execution_count": 162,
   "metadata": {
    "colab": {
     "base_uri": "https://localhost:8080/"
    },
    "id": "40XCw-LITMFL",
    "outputId": "cff486ce-ea5e-48cd-a2ee-a9a82f9b27f6"
   },
   "outputs": [
    {
     "name": "stderr",
     "output_type": "stream",
     "text": [
      "fatal: destination path 'pulse' already exists and is not an empty directory.\n"
     ]
    }
   ],
   "source": [
    "!git clone https://github.com/PhonePe/pulse.git"
   ]
  },
  {
   "cell_type": "code",
   "execution_count": 16,
   "metadata": {},
   "outputs": [
    {
     "name": "stdout",
     "output_type": "stream",
     "text": [
      "Requirement already satisfied: plotly in c:\\users\\cbmit\\appdata\\local\\programs\\python\\python312\\lib\\site-packages (5.20.0)Note: you may need to restart the kernel to use updated packages.\n",
      "\n",
      "Requirement already satisfied: tenacity>=6.2.0 in c:\\users\\cbmit\\appdata\\local\\programs\\python\\python312\\lib\\site-packages (from plotly) (8.2.3)\n",
      "Requirement already satisfied: packaging in c:\\users\\cbmit\\appdata\\roaming\\python\\python312\\site-packages (from plotly) (24.0)\n"
     ]
    }
   ],
   "source": [
    "pip install plotly"
   ]
  },
  {
   "cell_type": "code",
   "execution_count": 29,
   "metadata": {},
   "outputs": [
    {
     "name": "stdout",
     "output_type": "stream",
     "text": [
      "Requirement already satisfied: nbformat in c:\\users\\cbmit\\appdata\\local\\programs\\python\\python312\\lib\\site-packages (5.10.3)Note: you may need to restart the kernel to use updated packages.\n",
      "\n",
      "Requirement already satisfied: fastjsonschema in c:\\users\\cbmit\\appdata\\local\\programs\\python\\python312\\lib\\site-packages (from nbformat) (2.19.1)\n",
      "Requirement already satisfied: jsonschema>=2.6 in c:\\users\\cbmit\\appdata\\local\\programs\\python\\python312\\lib\\site-packages (from nbformat) (4.21.1)\n",
      "Requirement already satisfied: jupyter-core in c:\\users\\cbmit\\appdata\\roaming\\python\\python312\\site-packages (from nbformat) (5.7.2)\n",
      "Requirement already satisfied: traitlets>=5.1 in c:\\users\\cbmit\\appdata\\roaming\\python\\python312\\site-packages (from nbformat) (5.14.2)\n",
      "Requirement already satisfied: attrs>=22.2.0 in c:\\users\\cbmit\\appdata\\local\\programs\\python\\python312\\lib\\site-packages (from jsonschema>=2.6->nbformat) (23.2.0)\n",
      "Requirement already satisfied: jsonschema-specifications>=2023.03.6 in c:\\users\\cbmit\\appdata\\local\\programs\\python\\python312\\lib\\site-packages (from jsonschema>=2.6->nbformat) (2023.12.1)\n",
      "Requirement already satisfied: referencing>=0.28.4 in c:\\users\\cbmit\\appdata\\local\\programs\\python\\python312\\lib\\site-packages (from jsonschema>=2.6->nbformat) (0.34.0)\n",
      "Requirement already satisfied: rpds-py>=0.7.1 in c:\\users\\cbmit\\appdata\\local\\programs\\python\\python312\\lib\\site-packages (from jsonschema>=2.6->nbformat) (0.18.0)\n",
      "Requirement already satisfied: platformdirs>=2.5 in c:\\users\\cbmit\\appdata\\roaming\\python\\python312\\site-packages (from jupyter-core->nbformat) (4.2.0)\n",
      "Requirement already satisfied: pywin32>=300 in c:\\users\\cbmit\\appdata\\roaming\\python\\python312\\site-packages (from jupyter-core->nbformat) (306)\n"
     ]
    }
   ],
   "source": [
    "pip install --upgrade nbformat"
   ]
  },
  {
   "cell_type": "code",
   "execution_count": 2,
   "metadata": {},
   "outputs": [],
   "source": [
    "import pandas as pd\n",
    "import json\n",
    "import os\n",
    "\n",
    "import psycopg2"
   ]
  },
  {
   "cell_type": "code",
   "execution_count": 3,
   "metadata": {},
   "outputs": [],
   "source": [
    "import plotly.express as px"
   ]
  },
  {
   "cell_type": "code",
   "execution_count": 164,
   "metadata": {
    "id": "PZUrOMCk6mt4"
   },
   "outputs": [],
   "source": [
    "path1=\"D:/PhonePe Pulse Data Visualization and Exploration/pulse/data/aggregated/transaction/country/india/state/\"\n",
    "Agg_trans_list=os.listdir(path1)\n",
    "clm={'State':[], 'Year':[],'Quarter':[],'Transaction_type':[], 'Transaction_count':[], 'Transaction_amount':[]}\n",
    "\n",
    "for i in Agg_trans_list:\n",
    "    p_i=path1+i+\"/\"\n",
    "    Agg_yr=os.listdir(p_i)\n",
    "    for j in Agg_yr:\n",
    "        p_j=p_i+j+\"/\"\n",
    "        Agg_qr_list=os.listdir(p_j)\n",
    "        for k in Agg_qr_list:\n",
    "            p_k=p_j+k\n",
    "            Data=open(p_k,'r')\n",
    "            D=json.load(Data)\n",
    "            for z in D['data']['transactionData']:\n",
    "              Name=z['name']\n",
    "              count=z['paymentInstruments'][0]['count']\n",
    "              amount=z['paymentInstruments'][0]['amount']\n",
    "              clm['Transaction_type'].append(Name)\n",
    "              clm['Transaction_count'].append(count)\n",
    "              clm['Transaction_amount'].append(amount)\n",
    "              clm['State'].append(i)\n",
    "              clm['Year'].append(j)\n",
    "              clm['Quarter'].append(int(k.strip('.json')))\n",
    "              \n",
    "Agg_Trans=pd.DataFrame(clm)\n",
    "\n",
    "\n"
   ]
  },
  {
   "cell_type": "code",
   "execution_count": 165,
   "metadata": {
    "colab": {
     "base_uri": "https://localhost:8080/",
     "height": 423
    },
    "id": "eW9N0S91g4cN",
    "outputId": "ead81a9b-3070-43bb-b2ca-58eaf045d1af"
   },
   "outputs": [
    {
     "data": {
      "text/plain": [
       "array(['andaman-&-nicobar-islands', 'andhra-pradesh', 'arunachal-pradesh',\n",
       "       'assam', 'bihar', 'chandigarh', 'chhattisgarh',\n",
       "       'dadra-&-nagar-haveli-&-daman-&-diu', 'delhi', 'goa', 'gujarat',\n",
       "       'haryana', 'himachal-pradesh', 'jammu-&-kashmir', 'jharkhand',\n",
       "       'karnataka', 'kerala', 'ladakh', 'lakshadweep', 'madhya-pradesh',\n",
       "       'maharashtra', 'manipur', 'meghalaya', 'mizoram', 'nagaland',\n",
       "       'odisha', 'puducherry', 'punjab', 'rajasthan', 'sikkim',\n",
       "       'tamil-nadu', 'telangana', 'tripura', 'uttar-pradesh',\n",
       "       'uttarakhand', 'west-bengal'], dtype=object)"
      ]
     },
     "execution_count": 165,
     "metadata": {},
     "output_type": "execute_result"
    }
   ],
   "source": [
    "Agg_Trans['State'].unique()"
   ]
  },
  {
   "cell_type": "code",
   "execution_count": 166,
   "metadata": {},
   "outputs": [
    {
     "data": {
      "text/html": [
       "<div>\n",
       "<style scoped>\n",
       "    .dataframe tbody tr th:only-of-type {\n",
       "        vertical-align: middle;\n",
       "    }\n",
       "\n",
       "    .dataframe tbody tr th {\n",
       "        vertical-align: top;\n",
       "    }\n",
       "\n",
       "    .dataframe thead th {\n",
       "        text-align: right;\n",
       "    }\n",
       "</style>\n",
       "<table border=\"1\" class=\"dataframe\">\n",
       "  <thead>\n",
       "    <tr style=\"text-align: right;\">\n",
       "      <th></th>\n",
       "      <th>State</th>\n",
       "      <th>Year</th>\n",
       "      <th>Quarter</th>\n",
       "      <th>Transaction_type</th>\n",
       "      <th>Transaction_count</th>\n",
       "      <th>Transaction_amount</th>\n",
       "    </tr>\n",
       "  </thead>\n",
       "  <tbody>\n",
       "    <tr>\n",
       "      <th>0</th>\n",
       "      <td>andaman-&amp;-nicobar-islands</td>\n",
       "      <td>2018</td>\n",
       "      <td>1</td>\n",
       "      <td>Recharge &amp; bill payments</td>\n",
       "      <td>4200</td>\n",
       "      <td>1.845307e+06</td>\n",
       "    </tr>\n",
       "    <tr>\n",
       "      <th>1</th>\n",
       "      <td>andaman-&amp;-nicobar-islands</td>\n",
       "      <td>2018</td>\n",
       "      <td>1</td>\n",
       "      <td>Peer-to-peer payments</td>\n",
       "      <td>1871</td>\n",
       "      <td>1.213866e+07</td>\n",
       "    </tr>\n",
       "    <tr>\n",
       "      <th>2</th>\n",
       "      <td>andaman-&amp;-nicobar-islands</td>\n",
       "      <td>2018</td>\n",
       "      <td>1</td>\n",
       "      <td>Merchant payments</td>\n",
       "      <td>298</td>\n",
       "      <td>4.525072e+05</td>\n",
       "    </tr>\n",
       "    <tr>\n",
       "      <th>3</th>\n",
       "      <td>andaman-&amp;-nicobar-islands</td>\n",
       "      <td>2018</td>\n",
       "      <td>1</td>\n",
       "      <td>Financial Services</td>\n",
       "      <td>33</td>\n",
       "      <td>1.060142e+04</td>\n",
       "    </tr>\n",
       "    <tr>\n",
       "      <th>4</th>\n",
       "      <td>andaman-&amp;-nicobar-islands</td>\n",
       "      <td>2018</td>\n",
       "      <td>1</td>\n",
       "      <td>Others</td>\n",
       "      <td>256</td>\n",
       "      <td>1.846899e+05</td>\n",
       "    </tr>\n",
       "    <tr>\n",
       "      <th>...</th>\n",
       "      <td>...</td>\n",
       "      <td>...</td>\n",
       "      <td>...</td>\n",
       "      <td>...</td>\n",
       "      <td>...</td>\n",
       "      <td>...</td>\n",
       "    </tr>\n",
       "    <tr>\n",
       "      <th>4309</th>\n",
       "      <td>west-bengal</td>\n",
       "      <td>2023</td>\n",
       "      <td>4</td>\n",
       "      <td>Merchant payments</td>\n",
       "      <td>354067997</td>\n",
       "      <td>2.390738e+11</td>\n",
       "    </tr>\n",
       "    <tr>\n",
       "      <th>4310</th>\n",
       "      <td>west-bengal</td>\n",
       "      <td>2023</td>\n",
       "      <td>4</td>\n",
       "      <td>Peer-to-peer payments</td>\n",
       "      <td>317959249</td>\n",
       "      <td>9.641385e+11</td>\n",
       "    </tr>\n",
       "    <tr>\n",
       "      <th>4311</th>\n",
       "      <td>west-bengal</td>\n",
       "      <td>2023</td>\n",
       "      <td>4</td>\n",
       "      <td>Recharge &amp; bill payments</td>\n",
       "      <td>64920775</td>\n",
       "      <td>4.531943e+10</td>\n",
       "    </tr>\n",
       "    <tr>\n",
       "      <th>4312</th>\n",
       "      <td>west-bengal</td>\n",
       "      <td>2023</td>\n",
       "      <td>4</td>\n",
       "      <td>Financial Services</td>\n",
       "      <td>480740</td>\n",
       "      <td>4.590073e+08</td>\n",
       "    </tr>\n",
       "    <tr>\n",
       "      <th>4313</th>\n",
       "      <td>west-bengal</td>\n",
       "      <td>2023</td>\n",
       "      <td>4</td>\n",
       "      <td>Others</td>\n",
       "      <td>524477</td>\n",
       "      <td>4.041567e+08</td>\n",
       "    </tr>\n",
       "  </tbody>\n",
       "</table>\n",
       "<p>4314 rows × 6 columns</p>\n",
       "</div>"
      ],
      "text/plain": [
       "                          State  Year  Quarter          Transaction_type  \\\n",
       "0     andaman-&-nicobar-islands  2018        1  Recharge & bill payments   \n",
       "1     andaman-&-nicobar-islands  2018        1     Peer-to-peer payments   \n",
       "2     andaman-&-nicobar-islands  2018        1         Merchant payments   \n",
       "3     andaman-&-nicobar-islands  2018        1        Financial Services   \n",
       "4     andaman-&-nicobar-islands  2018        1                    Others   \n",
       "...                         ...   ...      ...                       ...   \n",
       "4309                west-bengal  2023        4         Merchant payments   \n",
       "4310                west-bengal  2023        4     Peer-to-peer payments   \n",
       "4311                west-bengal  2023        4  Recharge & bill payments   \n",
       "4312                west-bengal  2023        4        Financial Services   \n",
       "4313                west-bengal  2023        4                    Others   \n",
       "\n",
       "      Transaction_count  Transaction_amount  \n",
       "0                  4200        1.845307e+06  \n",
       "1                  1871        1.213866e+07  \n",
       "2                   298        4.525072e+05  \n",
       "3                    33        1.060142e+04  \n",
       "4                   256        1.846899e+05  \n",
       "...                 ...                 ...  \n",
       "4309          354067997        2.390738e+11  \n",
       "4310          317959249        9.641385e+11  \n",
       "4311           64920775        4.531943e+10  \n",
       "4312             480740        4.590073e+08  \n",
       "4313             524477        4.041567e+08  \n",
       "\n",
       "[4314 rows x 6 columns]"
      ]
     },
     "execution_count": 166,
     "metadata": {},
     "output_type": "execute_result"
    }
   ],
   "source": [
    "Agg_Trans"
   ]
  },
  {
   "cell_type": "code",
   "execution_count": 167,
   "metadata": {
    "colab": {
     "base_uri": "https://localhost:8080/"
    },
    "id": "b-ioPMn_per9",
    "outputId": "29daac21-bb38-404e-cf64-855af5ecf558"
   },
   "outputs": [],
   "source": [
    "path2=\"D:/PhonePe Pulse Data Visualization and Exploration/pulse/data/aggregated/user/country/india/state/\"\n",
    "Agg_user_list=os.listdir(path2)\n",
    "\n",
    "clm2={'State':[], 'Year':[],'Quarter':[],'Brand':[], 'Transaction_count':[], 'Percentage':[]}\n",
    "\n",
    "for i in Agg_user_list:\n",
    "    p_i=path2+i+\"/\"\n",
    "    Agg_yr=os.listdir(p_i)\n",
    "\n",
    "    for j in Agg_yr:\n",
    "        p_j=p_i+j+\"/\"\n",
    "        Agg_yr_list=os.listdir(p_j)\n",
    "\n",
    "        for k in Agg_yr_list:\n",
    "            p_k=p_j+k\n",
    "            Data=open(p_k,'r')\n",
    "            D=json.load(Data)\n",
    "            try:\n",
    "                for z in D['data']['usersByDevice']:\n",
    "                    brand=z['brand']\n",
    "                    count=z['count']\n",
    "                    percentage=z['percentage']\n",
    "                    clm2['Brand'].append(brand)\n",
    "                    clm2['Transaction_count'].append(count)\n",
    "                    clm2['Percentage'].append(percentage)\n",
    "                    clm2['State'].append(i)\n",
    "                    clm2['Year'].append(j)\n",
    "                    clm2['Quarter'].append(int(k.strip('.json')))\n",
    "                \n",
    "                Agg_Users=pd.DataFrame(clm2)\n",
    "                \n",
    "            except:\n",
    "                pass"
   ]
  },
  {
   "cell_type": "code",
   "execution_count": 168,
   "metadata": {},
   "outputs": [
    {
     "data": {
      "text/html": [
       "<div>\n",
       "<style scoped>\n",
       "    .dataframe tbody tr th:only-of-type {\n",
       "        vertical-align: middle;\n",
       "    }\n",
       "\n",
       "    .dataframe tbody tr th {\n",
       "        vertical-align: top;\n",
       "    }\n",
       "\n",
       "    .dataframe thead th {\n",
       "        text-align: right;\n",
       "    }\n",
       "</style>\n",
       "<table border=\"1\" class=\"dataframe\">\n",
       "  <thead>\n",
       "    <tr style=\"text-align: right;\">\n",
       "      <th></th>\n",
       "      <th>State</th>\n",
       "      <th>Year</th>\n",
       "      <th>Quarter</th>\n",
       "      <th>Brand</th>\n",
       "      <th>Transaction_count</th>\n",
       "      <th>Percentage</th>\n",
       "    </tr>\n",
       "  </thead>\n",
       "  <tbody>\n",
       "    <tr>\n",
       "      <th>0</th>\n",
       "      <td>andaman-&amp;-nicobar-islands</td>\n",
       "      <td>2018</td>\n",
       "      <td>1</td>\n",
       "      <td>Xiaomi</td>\n",
       "      <td>1665</td>\n",
       "      <td>0.247033</td>\n",
       "    </tr>\n",
       "    <tr>\n",
       "      <th>1</th>\n",
       "      <td>andaman-&amp;-nicobar-islands</td>\n",
       "      <td>2018</td>\n",
       "      <td>1</td>\n",
       "      <td>Samsung</td>\n",
       "      <td>1445</td>\n",
       "      <td>0.214392</td>\n",
       "    </tr>\n",
       "    <tr>\n",
       "      <th>2</th>\n",
       "      <td>andaman-&amp;-nicobar-islands</td>\n",
       "      <td>2018</td>\n",
       "      <td>1</td>\n",
       "      <td>Vivo</td>\n",
       "      <td>982</td>\n",
       "      <td>0.145697</td>\n",
       "    </tr>\n",
       "    <tr>\n",
       "      <th>3</th>\n",
       "      <td>andaman-&amp;-nicobar-islands</td>\n",
       "      <td>2018</td>\n",
       "      <td>1</td>\n",
       "      <td>Oppo</td>\n",
       "      <td>501</td>\n",
       "      <td>0.074332</td>\n",
       "    </tr>\n",
       "    <tr>\n",
       "      <th>4</th>\n",
       "      <td>andaman-&amp;-nicobar-islands</td>\n",
       "      <td>2018</td>\n",
       "      <td>1</td>\n",
       "      <td>OnePlus</td>\n",
       "      <td>332</td>\n",
       "      <td>0.049258</td>\n",
       "    </tr>\n",
       "    <tr>\n",
       "      <th>...</th>\n",
       "      <td>...</td>\n",
       "      <td>...</td>\n",
       "      <td>...</td>\n",
       "      <td>...</td>\n",
       "      <td>...</td>\n",
       "      <td>...</td>\n",
       "    </tr>\n",
       "    <tr>\n",
       "      <th>6727</th>\n",
       "      <td>west-bengal</td>\n",
       "      <td>2022</td>\n",
       "      <td>1</td>\n",
       "      <td>Lenovo</td>\n",
       "      <td>330017</td>\n",
       "      <td>0.015056</td>\n",
       "    </tr>\n",
       "    <tr>\n",
       "      <th>6728</th>\n",
       "      <td>west-bengal</td>\n",
       "      <td>2022</td>\n",
       "      <td>1</td>\n",
       "      <td>Infinix</td>\n",
       "      <td>284678</td>\n",
       "      <td>0.012987</td>\n",
       "    </tr>\n",
       "    <tr>\n",
       "      <th>6729</th>\n",
       "      <td>west-bengal</td>\n",
       "      <td>2022</td>\n",
       "      <td>1</td>\n",
       "      <td>Asus</td>\n",
       "      <td>280347</td>\n",
       "      <td>0.012790</td>\n",
       "    </tr>\n",
       "    <tr>\n",
       "      <th>6730</th>\n",
       "      <td>west-bengal</td>\n",
       "      <td>2022</td>\n",
       "      <td>1</td>\n",
       "      <td>Apple</td>\n",
       "      <td>277752</td>\n",
       "      <td>0.012671</td>\n",
       "    </tr>\n",
       "    <tr>\n",
       "      <th>6731</th>\n",
       "      <td>west-bengal</td>\n",
       "      <td>2022</td>\n",
       "      <td>1</td>\n",
       "      <td>Others</td>\n",
       "      <td>2196334</td>\n",
       "      <td>0.100199</td>\n",
       "    </tr>\n",
       "  </tbody>\n",
       "</table>\n",
       "<p>6732 rows × 6 columns</p>\n",
       "</div>"
      ],
      "text/plain": [
       "                          State  Year  Quarter    Brand  Transaction_count  \\\n",
       "0     andaman-&-nicobar-islands  2018        1   Xiaomi               1665   \n",
       "1     andaman-&-nicobar-islands  2018        1  Samsung               1445   \n",
       "2     andaman-&-nicobar-islands  2018        1     Vivo                982   \n",
       "3     andaman-&-nicobar-islands  2018        1     Oppo                501   \n",
       "4     andaman-&-nicobar-islands  2018        1  OnePlus                332   \n",
       "...                         ...   ...      ...      ...                ...   \n",
       "6727                west-bengal  2022        1   Lenovo             330017   \n",
       "6728                west-bengal  2022        1  Infinix             284678   \n",
       "6729                west-bengal  2022        1     Asus             280347   \n",
       "6730                west-bengal  2022        1    Apple             277752   \n",
       "6731                west-bengal  2022        1   Others            2196334   \n",
       "\n",
       "      Percentage  \n",
       "0       0.247033  \n",
       "1       0.214392  \n",
       "2       0.145697  \n",
       "3       0.074332  \n",
       "4       0.049258  \n",
       "...          ...  \n",
       "6727    0.015056  \n",
       "6728    0.012987  \n",
       "6729    0.012790  \n",
       "6730    0.012671  \n",
       "6731    0.100199  \n",
       "\n",
       "[6732 rows x 6 columns]"
      ]
     },
     "execution_count": 168,
     "metadata": {},
     "output_type": "execute_result"
    }
   ],
   "source": [
    "\n",
    "Agg_Users"
   ]
  },
  {
   "cell_type": "code",
   "execution_count": 4,
   "metadata": {},
   "outputs": [],
   "source": [
    "path3='D:/PhonePe Pulse Data Visualization and Exploration/pulse/data/map/transaction/hover/country/india/state/'\n",
    "\n",
    "map_tran_list=os.listdir(path3)\n",
    "\n",
    "clm3={'State':[], 'Year':[],'Quarter':[],'District':[], 'Transaction_count':[], 'Transaction_amount':[]}\n",
    "\n",
    "for i in map_tran_list:\n",
    "    p_i=path3+i+\"/\"\n",
    "    map_yr=os.listdir(p_i)\n",
    "\n",
    "    for j in map_yr:\n",
    "        p_j=p_i+j+\"/\"\n",
    "        map_yr_list=os.listdir(p_j)\n",
    "\n",
    "        for k in map_yr_list:\n",
    "            p_k=p_j+k\n",
    "            Data=open(p_k,'r')\n",
    "            D=json.load(Data)\n",
    "            for z in D['data']['hoverDataList']:\n",
    "                name=z['name']\n",
    "                count=z['metric'][0]['count']\n",
    "                amount=z['metric'][0]['amount']\n",
    "                clm3['District'].append(name)\n",
    "                clm3['Transaction_count'].append(count)\n",
    "                clm3['Transaction_amount'].append(amount)\n",
    "                clm3['State'].append(i)\n",
    "                clm3['Year'].append(j)\n",
    "                clm3['Quarter'].append(int(k.strip('.json')))\n",
    "            \n",
    "Map_trans=pd.DataFrame(clm3)"
   ]
  },
  {
   "cell_type": "code",
   "execution_count": 5,
   "metadata": {},
   "outputs": [
    {
     "data": {
      "text/html": [
       "<div>\n",
       "<style scoped>\n",
       "    .dataframe tbody tr th:only-of-type {\n",
       "        vertical-align: middle;\n",
       "    }\n",
       "\n",
       "    .dataframe tbody tr th {\n",
       "        vertical-align: top;\n",
       "    }\n",
       "\n",
       "    .dataframe thead th {\n",
       "        text-align: right;\n",
       "    }\n",
       "</style>\n",
       "<table border=\"1\" class=\"dataframe\">\n",
       "  <thead>\n",
       "    <tr style=\"text-align: right;\">\n",
       "      <th></th>\n",
       "      <th>State</th>\n",
       "      <th>Year</th>\n",
       "      <th>Quarter</th>\n",
       "      <th>District</th>\n",
       "      <th>Transaction_count</th>\n",
       "      <th>Transaction_amount</th>\n",
       "    </tr>\n",
       "  </thead>\n",
       "  <tbody>\n",
       "    <tr>\n",
       "      <th>0</th>\n",
       "      <td>andaman-&amp;-nicobar-islands</td>\n",
       "      <td>2018</td>\n",
       "      <td>1</td>\n",
       "      <td>north and middle andaman district</td>\n",
       "      <td>442</td>\n",
       "      <td>9.316631e+05</td>\n",
       "    </tr>\n",
       "    <tr>\n",
       "      <th>1</th>\n",
       "      <td>andaman-&amp;-nicobar-islands</td>\n",
       "      <td>2018</td>\n",
       "      <td>1</td>\n",
       "      <td>south andaman district</td>\n",
       "      <td>5688</td>\n",
       "      <td>1.256025e+07</td>\n",
       "    </tr>\n",
       "    <tr>\n",
       "      <th>2</th>\n",
       "      <td>andaman-&amp;-nicobar-islands</td>\n",
       "      <td>2018</td>\n",
       "      <td>1</td>\n",
       "      <td>nicobars district</td>\n",
       "      <td>528</td>\n",
       "      <td>1.139849e+06</td>\n",
       "    </tr>\n",
       "    <tr>\n",
       "      <th>3</th>\n",
       "      <td>andaman-&amp;-nicobar-islands</td>\n",
       "      <td>2018</td>\n",
       "      <td>2</td>\n",
       "      <td>north and middle andaman district</td>\n",
       "      <td>825</td>\n",
       "      <td>1.317863e+06</td>\n",
       "    </tr>\n",
       "    <tr>\n",
       "      <th>4</th>\n",
       "      <td>andaman-&amp;-nicobar-islands</td>\n",
       "      <td>2018</td>\n",
       "      <td>2</td>\n",
       "      <td>south andaman district</td>\n",
       "      <td>9395</td>\n",
       "      <td>2.394824e+07</td>\n",
       "    </tr>\n",
       "    <tr>\n",
       "      <th>...</th>\n",
       "      <td>...</td>\n",
       "      <td>...</td>\n",
       "      <td>...</td>\n",
       "      <td>...</td>\n",
       "      <td>...</td>\n",
       "      <td>...</td>\n",
       "    </tr>\n",
       "    <tr>\n",
       "      <th>17559</th>\n",
       "      <td>west-bengal</td>\n",
       "      <td>2023</td>\n",
       "      <td>4</td>\n",
       "      <td>nadia district</td>\n",
       "      <td>36242432</td>\n",
       "      <td>6.879568e+10</td>\n",
       "    </tr>\n",
       "    <tr>\n",
       "      <th>17560</th>\n",
       "      <td>west-bengal</td>\n",
       "      <td>2023</td>\n",
       "      <td>4</td>\n",
       "      <td>birbhum district</td>\n",
       "      <td>20708496</td>\n",
       "      <td>3.690499e+10</td>\n",
       "    </tr>\n",
       "    <tr>\n",
       "      <th>17561</th>\n",
       "      <td>west-bengal</td>\n",
       "      <td>2023</td>\n",
       "      <td>4</td>\n",
       "      <td>purba medinipur district</td>\n",
       "      <td>40572042</td>\n",
       "      <td>7.981990e+10</td>\n",
       "    </tr>\n",
       "    <tr>\n",
       "      <th>17562</th>\n",
       "      <td>west-bengal</td>\n",
       "      <td>2023</td>\n",
       "      <td>4</td>\n",
       "      <td>maldah district</td>\n",
       "      <td>34654950</td>\n",
       "      <td>6.416729e+10</td>\n",
       "    </tr>\n",
       "    <tr>\n",
       "      <th>17563</th>\n",
       "      <td>west-bengal</td>\n",
       "      <td>2023</td>\n",
       "      <td>4</td>\n",
       "      <td>darjiling district</td>\n",
       "      <td>16807885</td>\n",
       "      <td>2.793986e+10</td>\n",
       "    </tr>\n",
       "  </tbody>\n",
       "</table>\n",
       "<p>17564 rows × 6 columns</p>\n",
       "</div>"
      ],
      "text/plain": [
       "                           State  Year  Quarter  \\\n",
       "0      andaman-&-nicobar-islands  2018        1   \n",
       "1      andaman-&-nicobar-islands  2018        1   \n",
       "2      andaman-&-nicobar-islands  2018        1   \n",
       "3      andaman-&-nicobar-islands  2018        2   \n",
       "4      andaman-&-nicobar-islands  2018        2   \n",
       "...                          ...   ...      ...   \n",
       "17559                west-bengal  2023        4   \n",
       "17560                west-bengal  2023        4   \n",
       "17561                west-bengal  2023        4   \n",
       "17562                west-bengal  2023        4   \n",
       "17563                west-bengal  2023        4   \n",
       "\n",
       "                                District  Transaction_count  \\\n",
       "0      north and middle andaman district                442   \n",
       "1                 south andaman district               5688   \n",
       "2                      nicobars district                528   \n",
       "3      north and middle andaman district                825   \n",
       "4                 south andaman district               9395   \n",
       "...                                  ...                ...   \n",
       "17559                     nadia district           36242432   \n",
       "17560                   birbhum district           20708496   \n",
       "17561           purba medinipur district           40572042   \n",
       "17562                    maldah district           34654950   \n",
       "17563                 darjiling district           16807885   \n",
       "\n",
       "       Transaction_amount  \n",
       "0            9.316631e+05  \n",
       "1            1.256025e+07  \n",
       "2            1.139849e+06  \n",
       "3            1.317863e+06  \n",
       "4            2.394824e+07  \n",
       "...                   ...  \n",
       "17559        6.879568e+10  \n",
       "17560        3.690499e+10  \n",
       "17561        7.981990e+10  \n",
       "17562        6.416729e+10  \n",
       "17563        2.793986e+10  \n",
       "\n",
       "[17564 rows x 6 columns]"
      ]
     },
     "execution_count": 5,
     "metadata": {},
     "output_type": "execute_result"
    }
   ],
   "source": [
    "Map_trans"
   ]
  },
  {
   "cell_type": "code",
   "execution_count": 8,
   "metadata": {},
   "outputs": [
    {
     "data": {
      "application/vnd.plotly.v1+json": {
       "config": {
        "plotlyServerURL": "https://plot.ly"
       },
       "data": [
        {
         "branchvalues": "total",
         "customdata": [
          [
           "andaman-&-nicobar-islands"
          ],
          [
           "delhi"
          ],
          [
           "delhi"
          ],
          [
           "delhi"
          ],
          [
           "delhi"
          ],
          [
           "dadra-&-nagar-haveli-&-daman-&-diu"
          ],
          [
           "dadra-&-nagar-haveli-&-daman-&-diu"
          ],
          [
           "delhi"
          ],
          [
           "dadra-&-nagar-haveli-&-daman-&-diu"
          ],
          [
           "dadra-&-nagar-haveli-&-daman-&-diu"
          ],
          [
           "dadra-&-nagar-haveli-&-daman-&-diu"
          ],
          [
           "chhattisgarh"
          ],
          [
           "chhattisgarh"
          ],
          [
           "chhattisgarh"
          ],
          [
           "chhattisgarh"
          ],
          [
           "dadra-&-nagar-haveli-&-daman-&-diu"
          ],
          [
           "goa"
          ],
          [
           "goa"
          ],
          [
           "goa"
          ],
          [
           "haryana"
          ],
          [
           "haryana"
          ],
          [
           "haryana"
          ],
          [
           "haryana"
          ],
          [
           "haryana"
          ],
          [
           "haryana"
          ],
          [
           "gujarat"
          ],
          [
           "gujarat"
          ],
          [
           "gujarat"
          ],
          [
           "gujarat"
          ],
          [
           "gujarat"
          ],
          [
           "gujarat"
          ],
          [
           "goa"
          ],
          [
           "goa"
          ],
          [
           "goa"
          ],
          [
           "chhattisgarh"
          ],
          [
           "chhattisgarh"
          ],
          [
           "delhi"
          ],
          [
           "chandigarh"
          ],
          [
           "arunachal-pradesh"
          ],
          [
           "arunachal-pradesh"
          ],
          [
           "arunachal-pradesh"
          ],
          [
           "arunachal-pradesh"
          ],
          [
           "andhra-pradesh"
          ],
          [
           "andhra-pradesh"
          ],
          [
           "andhra-pradesh"
          ],
          [
           "andhra-pradesh"
          ],
          [
           "andhra-pradesh"
          ],
          [
           "andaman-&-nicobar-islands"
          ],
          [
           "andaman-&-nicobar-islands"
          ],
          [
           "andaman-&-nicobar-islands"
          ],
          [
           "andaman-&-nicobar-islands"
          ],
          [
           "andaman-&-nicobar-islands"
          ],
          [
           "chandigarh"
          ],
          [
           "arunachal-pradesh"
          ],
          [
           "arunachal-pradesh"
          ],
          [
           "andhra-pradesh"
          ],
          [
           "chandigarh"
          ],
          [
           "assam"
          ],
          [
           "chandigarh"
          ],
          [
           "chandigarh"
          ],
          [
           "chandigarh"
          ],
          [
           "bihar"
          ],
          [
           "bihar"
          ],
          [
           "bihar"
          ],
          [
           "bihar"
          ],
          [
           "bihar"
          ],
          [
           "assam"
          ],
          [
           "assam"
          ],
          [
           "assam"
          ],
          [
           "assam"
          ],
          [
           "assam"
          ],
          [
           "bihar"
          ],
          [
           "punjab"
          ],
          [
           "rajasthan"
          ],
          [
           "rajasthan"
          ],
          [
           "rajasthan"
          ],
          [
           "rajasthan"
          ],
          [
           "rajasthan"
          ],
          [
           "rajasthan"
          ],
          [
           "tamil-nadu"
          ],
          [
           "sikkim"
          ],
          [
           "sikkim"
          ],
          [
           "sikkim"
          ],
          [
           "sikkim"
          ],
          [
           "sikkim"
          ],
          [
           "tamil-nadu"
          ],
          [
           "punjab"
          ],
          [
           "sikkim"
          ],
          [
           "punjab"
          ],
          [
           "nagaland"
          ],
          [
           "punjab"
          ],
          [
           "tamil-nadu"
          ],
          [
           "nagaland"
          ],
          [
           "odisha"
          ],
          [
           "odisha"
          ],
          [
           "odisha"
          ],
          [
           "odisha"
          ],
          [
           "odisha"
          ],
          [
           "odisha"
          ],
          [
           "puducherry"
          ],
          [
           "puducherry"
          ],
          [
           "puducherry"
          ],
          [
           "puducherry"
          ],
          [
           "puducherry"
          ],
          [
           "puducherry"
          ],
          [
           "punjab"
          ],
          [
           "punjab"
          ],
          [
           "tamil-nadu"
          ],
          [
           "(?)"
          ],
          [
           "tamil-nadu"
          ],
          [
           "uttarakhand"
          ],
          [
           "uttarakhand"
          ],
          [
           "uttarakhand"
          ],
          [
           "uttarakhand"
          ],
          [
           "uttarakhand"
          ],
          [
           "west-bengal"
          ],
          [
           "west-bengal"
          ],
          [
           "west-bengal"
          ],
          [
           "west-bengal"
          ],
          [
           "west-bengal"
          ],
          [
           "west-bengal"
          ],
          [
           "(?)"
          ],
          [
           "(?)"
          ],
          [
           "(?)"
          ],
          [
           "nagaland"
          ],
          [
           "uttarakhand"
          ],
          [
           "tamil-nadu"
          ],
          [
           "uttar-pradesh"
          ],
          [
           "uttar-pradesh"
          ],
          [
           "telangana"
          ],
          [
           "telangana"
          ],
          [
           "telangana"
          ],
          [
           "telangana"
          ],
          [
           "telangana"
          ],
          [
           "telangana"
          ],
          [
           "tripura"
          ],
          [
           "tripura"
          ],
          [
           "tripura"
          ],
          [
           "tripura"
          ],
          [
           "tripura"
          ],
          [
           "tripura"
          ],
          [
           "uttar-pradesh"
          ],
          [
           "uttar-pradesh"
          ],
          [
           "uttar-pradesh"
          ],
          [
           "uttar-pradesh"
          ],
          [
           "nagaland"
          ],
          [
           "lakshadweep"
          ],
          [
           "nagaland"
          ],
          [
           "karnataka"
          ],
          [
           "karnataka"
          ],
          [
           "karnataka"
          ],
          [
           "karnataka"
          ],
          [
           "karnataka"
          ],
          [
           "kerala"
          ],
          [
           "kerala"
          ],
          [
           "kerala"
          ],
          [
           "kerala"
          ],
          [
           "kerala"
          ],
          [
           "kerala"
          ],
          [
           "ladakh"
          ],
          [
           "ladakh"
          ],
          [
           "ladakh"
          ],
          [
           "ladakh"
          ],
          [
           "karnataka"
          ],
          [
           "ladakh"
          ],
          [
           "jharkhand"
          ],
          [
           "jharkhand"
          ],
          [
           "himachal-pradesh"
          ],
          [
           "himachal-pradesh"
          ],
          [
           "himachal-pradesh"
          ],
          [
           "himachal-pradesh"
          ],
          [
           "himachal-pradesh"
          ],
          [
           "himachal-pradesh"
          ],
          [
           "jammu-&-kashmir"
          ],
          [
           "jammu-&-kashmir"
          ],
          [
           "jammu-&-kashmir"
          ],
          [
           "jammu-&-kashmir"
          ],
          [
           "jammu-&-kashmir"
          ],
          [
           "jammu-&-kashmir"
          ],
          [
           "jharkhand"
          ],
          [
           "jharkhand"
          ],
          [
           "jharkhand"
          ],
          [
           "jharkhand"
          ],
          [
           "nagaland"
          ],
          [
           "ladakh"
          ],
          [
           "lakshadweep"
          ],
          [
           "manipur"
          ],
          [
           "manipur"
          ],
          [
           "manipur"
          ],
          [
           "meghalaya"
          ],
          [
           "meghalaya"
          ],
          [
           "meghalaya"
          ],
          [
           "meghalaya"
          ],
          [
           "meghalaya"
          ],
          [
           "meghalaya"
          ],
          [
           "mizoram"
          ],
          [
           "mizoram"
          ],
          [
           "mizoram"
          ],
          [
           "mizoram"
          ],
          [
           "mizoram"
          ],
          [
           "mizoram"
          ],
          [
           "manipur"
          ],
          [
           "lakshadweep"
          ],
          [
           "manipur"
          ],
          [
           "maharashtra"
          ],
          [
           "(?)"
          ],
          [
           "lakshadweep"
          ],
          [
           "lakshadweep"
          ],
          [
           "lakshadweep"
          ],
          [
           "madhya-pradesh"
          ],
          [
           "madhya-pradesh"
          ],
          [
           "madhya-pradesh"
          ],
          [
           "madhya-pradesh"
          ],
          [
           "madhya-pradesh"
          ],
          [
           "madhya-pradesh"
          ],
          [
           "maharashtra"
          ],
          [
           "maharashtra"
          ],
          [
           "maharashtra"
          ],
          [
           "maharashtra"
          ],
          [
           "maharashtra"
          ],
          [
           "manipur"
          ],
          [
           "(?)"
          ]
         ],
         "domain": {
          "x": [
           0,
           1
          ],
          "y": [
           0,
           1
          ]
         },
         "hovertemplate": "labels=%{label}<br>Transaction_amount=%{value}<br>parent=%{parent}<br>id=%{id}<br>State=%{customdata[0]}<extra></extra>",
         "ids": [
          "2018/andaman-&-nicobar-islands",
          "2021/delhi",
          "2020/delhi",
          "2019/delhi",
          "2018/delhi",
          "2023/dadra-&-nagar-haveli-&-daman-&-diu",
          "2022/dadra-&-nagar-haveli-&-daman-&-diu",
          "2022/delhi",
          "2021/dadra-&-nagar-haveli-&-daman-&-diu",
          "2019/dadra-&-nagar-haveli-&-daman-&-diu",
          "2018/dadra-&-nagar-haveli-&-daman-&-diu",
          "2023/chhattisgarh",
          "2022/chhattisgarh",
          "2021/chhattisgarh",
          "2020/chhattisgarh",
          "2020/dadra-&-nagar-haveli-&-daman-&-diu",
          "2018/goa",
          "2019/goa",
          "2020/goa",
          "2023/haryana",
          "2022/haryana",
          "2021/haryana",
          "2020/haryana",
          "2019/haryana",
          "2018/haryana",
          "2023/gujarat",
          "2022/gujarat",
          "2021/gujarat",
          "2020/gujarat",
          "2019/gujarat",
          "2018/gujarat",
          "2023/goa",
          "2022/goa",
          "2021/goa",
          "2019/chhattisgarh",
          "2018/chhattisgarh",
          "2023/delhi",
          "2022/chandigarh",
          "2021/arunachal-pradesh",
          "2020/arunachal-pradesh",
          "2019/arunachal-pradesh",
          "2018/arunachal-pradesh",
          "2023/andhra-pradesh",
          "2021/andhra-pradesh",
          "2020/andhra-pradesh",
          "2019/andhra-pradesh",
          "2018/andhra-pradesh",
          "2023/andaman-&-nicobar-islands",
          "2022/andaman-&-nicobar-islands",
          "2021/andaman-&-nicobar-islands",
          "2020/andaman-&-nicobar-islands",
          "2019/andaman-&-nicobar-islands",
          "2023/chandigarh",
          "2022/arunachal-pradesh",
          "2023/arunachal-pradesh",
          "2022/andhra-pradesh",
          "2021/chandigarh",
          "2018/assam",
          "2020/chandigarh",
          "2019/chandigarh",
          "2018/chandigarh",
          "2023/bihar",
          "2021/bihar",
          "2020/bihar",
          "2022/bihar",
          "2018/bihar",
          "2023/assam",
          "2022/assam",
          "2021/assam",
          "2020/assam",
          "2019/assam",
          "2019/bihar",
          "2023/punjab",
          "2022/rajasthan",
          "2018/rajasthan",
          "2019/rajasthan",
          "2020/rajasthan",
          "2021/rajasthan",
          "2023/rajasthan",
          "2019/tamil-nadu",
          "2019/sikkim",
          "2020/sikkim",
          "2021/sikkim",
          "2022/sikkim",
          "2023/sikkim",
          "2018/tamil-nadu",
          "2022/punjab",
          "2018/sikkim",
          "2021/punjab",
          "2022/nagaland",
          "2019/punjab",
          "2020/tamil-nadu",
          "2023/nagaland",
          "2018/odisha",
          "2019/odisha",
          "2020/odisha",
          "2021/odisha",
          "2022/odisha",
          "2023/odisha",
          "2018/puducherry",
          "2019/puducherry",
          "2020/puducherry",
          "2021/puducherry",
          "2022/puducherry",
          "2023/puducherry",
          "2018/punjab",
          "2020/punjab",
          "2021/tamil-nadu",
          "2021",
          "2023/tamil-nadu",
          "2019/uttarakhand",
          "2020/uttarakhand",
          "2021/uttarakhand",
          "2022/uttarakhand",
          "2023/uttarakhand",
          "2018/west-bengal",
          "2019/west-bengal",
          "2020/west-bengal",
          "2021/west-bengal",
          "2022/west-bengal",
          "2023/west-bengal",
          "2018",
          "2019",
          "2020",
          "2021/nagaland",
          "2018/uttarakhand",
          "2022/tamil-nadu",
          "2023/uttar-pradesh",
          "2021/uttar-pradesh",
          "2018/telangana",
          "2019/telangana",
          "2020/telangana",
          "2021/telangana",
          "2022/telangana",
          "2023/telangana",
          "2018/tripura",
          "2019/tripura",
          "2020/tripura",
          "2021/tripura",
          "2022/tripura",
          "2023/tripura",
          "2018/uttar-pradesh",
          "2019/uttar-pradesh",
          "2020/uttar-pradesh",
          "2022/uttar-pradesh",
          "2020/nagaland",
          "2020/lakshadweep",
          "2018/nagaland",
          "2019/karnataka",
          "2020/karnataka",
          "2021/karnataka",
          "2022/karnataka",
          "2023/karnataka",
          "2018/kerala",
          "2019/kerala",
          "2020/kerala",
          "2021/kerala",
          "2022/kerala",
          "2023/kerala",
          "2018/ladakh",
          "2019/ladakh",
          "2020/ladakh",
          "2021/ladakh",
          "2018/karnataka",
          "2022/ladakh",
          "2023/jharkhand",
          "2021/jharkhand",
          "2018/himachal-pradesh",
          "2019/himachal-pradesh",
          "2020/himachal-pradesh",
          "2021/himachal-pradesh",
          "2022/himachal-pradesh",
          "2023/himachal-pradesh",
          "2018/jammu-&-kashmir",
          "2019/jammu-&-kashmir",
          "2020/jammu-&-kashmir",
          "2021/jammu-&-kashmir",
          "2022/jammu-&-kashmir",
          "2023/jammu-&-kashmir",
          "2018/jharkhand",
          "2019/jharkhand",
          "2020/jharkhand",
          "2022/jharkhand",
          "2019/nagaland",
          "2023/ladakh",
          "2019/lakshadweep",
          "2021/manipur",
          "2022/manipur",
          "2023/manipur",
          "2018/meghalaya",
          "2019/meghalaya",
          "2020/meghalaya",
          "2021/meghalaya",
          "2022/meghalaya",
          "2023/meghalaya",
          "2018/mizoram",
          "2019/mizoram",
          "2020/mizoram",
          "2021/mizoram",
          "2022/mizoram",
          "2023/mizoram",
          "2020/manipur",
          "2018/lakshadweep",
          "2019/manipur",
          "2023/maharashtra",
          "2022",
          "2021/lakshadweep",
          "2022/lakshadweep",
          "2023/lakshadweep",
          "2018/madhya-pradesh",
          "2019/madhya-pradesh",
          "2020/madhya-pradesh",
          "2021/madhya-pradesh",
          "2022/madhya-pradesh",
          "2023/madhya-pradesh",
          "2018/maharashtra",
          "2019/maharashtra",
          "2020/maharashtra",
          "2021/maharashtra",
          "2022/maharashtra",
          "2018/manipur",
          "2023"
         ],
         "labels": [
          "andaman-&-nicobar-islands",
          "delhi",
          "delhi",
          "delhi",
          "delhi",
          "dadra-&-nagar-haveli-&-daman-&-diu",
          "dadra-&-nagar-haveli-&-daman-&-diu",
          "delhi",
          "dadra-&-nagar-haveli-&-daman-&-diu",
          "dadra-&-nagar-haveli-&-daman-&-diu",
          "dadra-&-nagar-haveli-&-daman-&-diu",
          "chhattisgarh",
          "chhattisgarh",
          "chhattisgarh",
          "chhattisgarh",
          "dadra-&-nagar-haveli-&-daman-&-diu",
          "goa",
          "goa",
          "goa",
          "haryana",
          "haryana",
          "haryana",
          "haryana",
          "haryana",
          "haryana",
          "gujarat",
          "gujarat",
          "gujarat",
          "gujarat",
          "gujarat",
          "gujarat",
          "goa",
          "goa",
          "goa",
          "chhattisgarh",
          "chhattisgarh",
          "delhi",
          "chandigarh",
          "arunachal-pradesh",
          "arunachal-pradesh",
          "arunachal-pradesh",
          "arunachal-pradesh",
          "andhra-pradesh",
          "andhra-pradesh",
          "andhra-pradesh",
          "andhra-pradesh",
          "andhra-pradesh",
          "andaman-&-nicobar-islands",
          "andaman-&-nicobar-islands",
          "andaman-&-nicobar-islands",
          "andaman-&-nicobar-islands",
          "andaman-&-nicobar-islands",
          "chandigarh",
          "arunachal-pradesh",
          "arunachal-pradesh",
          "andhra-pradesh",
          "chandigarh",
          "assam",
          "chandigarh",
          "chandigarh",
          "chandigarh",
          "bihar",
          "bihar",
          "bihar",
          "bihar",
          "bihar",
          "assam",
          "assam",
          "assam",
          "assam",
          "assam",
          "bihar",
          "punjab",
          "rajasthan",
          "rajasthan",
          "rajasthan",
          "rajasthan",
          "rajasthan",
          "rajasthan",
          "tamil-nadu",
          "sikkim",
          "sikkim",
          "sikkim",
          "sikkim",
          "sikkim",
          "tamil-nadu",
          "punjab",
          "sikkim",
          "punjab",
          "nagaland",
          "punjab",
          "tamil-nadu",
          "nagaland",
          "odisha",
          "odisha",
          "odisha",
          "odisha",
          "odisha",
          "odisha",
          "puducherry",
          "puducherry",
          "puducherry",
          "puducherry",
          "puducherry",
          "puducherry",
          "punjab",
          "punjab",
          "tamil-nadu",
          "2021",
          "tamil-nadu",
          "uttarakhand",
          "uttarakhand",
          "uttarakhand",
          "uttarakhand",
          "uttarakhand",
          "west-bengal",
          "west-bengal",
          "west-bengal",
          "west-bengal",
          "west-bengal",
          "west-bengal",
          "2018",
          "2019",
          "2020",
          "nagaland",
          "uttarakhand",
          "tamil-nadu",
          "uttar-pradesh",
          "uttar-pradesh",
          "telangana",
          "telangana",
          "telangana",
          "telangana",
          "telangana",
          "telangana",
          "tripura",
          "tripura",
          "tripura",
          "tripura",
          "tripura",
          "tripura",
          "uttar-pradesh",
          "uttar-pradesh",
          "uttar-pradesh",
          "uttar-pradesh",
          "nagaland",
          "lakshadweep",
          "nagaland",
          "karnataka",
          "karnataka",
          "karnataka",
          "karnataka",
          "karnataka",
          "kerala",
          "kerala",
          "kerala",
          "kerala",
          "kerala",
          "kerala",
          "ladakh",
          "ladakh",
          "ladakh",
          "ladakh",
          "karnataka",
          "ladakh",
          "jharkhand",
          "jharkhand",
          "himachal-pradesh",
          "himachal-pradesh",
          "himachal-pradesh",
          "himachal-pradesh",
          "himachal-pradesh",
          "himachal-pradesh",
          "jammu-&-kashmir",
          "jammu-&-kashmir",
          "jammu-&-kashmir",
          "jammu-&-kashmir",
          "jammu-&-kashmir",
          "jammu-&-kashmir",
          "jharkhand",
          "jharkhand",
          "jharkhand",
          "jharkhand",
          "nagaland",
          "ladakh",
          "lakshadweep",
          "manipur",
          "manipur",
          "manipur",
          "meghalaya",
          "meghalaya",
          "meghalaya",
          "meghalaya",
          "meghalaya",
          "meghalaya",
          "mizoram",
          "mizoram",
          "mizoram",
          "mizoram",
          "mizoram",
          "mizoram",
          "manipur",
          "lakshadweep",
          "manipur",
          "maharashtra",
          "2022",
          "lakshadweep",
          "lakshadweep",
          "lakshadweep",
          "madhya-pradesh",
          "madhya-pradesh",
          "madhya-pradesh",
          "madhya-pradesh",
          "madhya-pradesh",
          "madhya-pradesh",
          "maharashtra",
          "maharashtra",
          "maharashtra",
          "maharashtra",
          "maharashtra",
          "manipur",
          "2023"
         ],
         "marker": {
          "colors": [
           "#636efa",
           "#EF553B",
           "#EF553B",
           "#EF553B",
           "#EF553B",
           "#00cc96",
           "#00cc96",
           "#EF553B",
           "#00cc96",
           "#00cc96",
           "#00cc96",
           "#ab63fa",
           "#ab63fa",
           "#ab63fa",
           "#ab63fa",
           "#00cc96",
           "#FFA15A",
           "#FFA15A",
           "#FFA15A",
           "#19d3f3",
           "#19d3f3",
           "#19d3f3",
           "#19d3f3",
           "#19d3f3",
           "#19d3f3",
           "#FF6692",
           "#FF6692",
           "#FF6692",
           "#FF6692",
           "#FF6692",
           "#FF6692",
           "#FFA15A",
           "#FFA15A",
           "#FFA15A",
           "#ab63fa",
           "#ab63fa",
           "#EF553B",
           "#B6E880",
           "#FF97FF",
           "#FF97FF",
           "#FF97FF",
           "#FF97FF",
           "#FECB52",
           "#FECB52",
           "#FECB52",
           "#FECB52",
           "#FECB52",
           "#636efa",
           "#636efa",
           "#636efa",
           "#636efa",
           "#636efa",
           "#B6E880",
           "#FF97FF",
           "#FF97FF",
           "#FECB52",
           "#B6E880",
           "#636efa",
           "#B6E880",
           "#B6E880",
           "#B6E880",
           "#EF553B",
           "#EF553B",
           "#EF553B",
           "#EF553B",
           "#EF553B",
           "#636efa",
           "#636efa",
           "#636efa",
           "#636efa",
           "#636efa",
           "#EF553B",
           "#00cc96",
           "#ab63fa",
           "#ab63fa",
           "#ab63fa",
           "#ab63fa",
           "#ab63fa",
           "#ab63fa",
           "#FFA15A",
           "#19d3f3",
           "#19d3f3",
           "#19d3f3",
           "#19d3f3",
           "#19d3f3",
           "#FFA15A",
           "#00cc96",
           "#19d3f3",
           "#00cc96",
           "#FF6692",
           "#00cc96",
           "#FFA15A",
           "#FF6692",
           "#B6E880",
           "#B6E880",
           "#B6E880",
           "#B6E880",
           "#B6E880",
           "#B6E880",
           "#FF97FF",
           "#FF97FF",
           "#FF97FF",
           "#FF97FF",
           "#FF97FF",
           "#FF97FF",
           "#00cc96",
           "#00cc96",
           "#FFA15A",
           "#FECB52",
           "#FFA15A",
           "#636efa",
           "#636efa",
           "#636efa",
           "#636efa",
           "#636efa",
           "#EF553B",
           "#EF553B",
           "#EF553B",
           "#EF553B",
           "#EF553B",
           "#EF553B",
           "#FECB52",
           "#FECB52",
           "#FECB52",
           "#FF6692",
           "#636efa",
           "#FFA15A",
           "#00cc96",
           "#00cc96",
           "#ab63fa",
           "#ab63fa",
           "#ab63fa",
           "#ab63fa",
           "#ab63fa",
           "#ab63fa",
           "#FFA15A",
           "#FFA15A",
           "#FFA15A",
           "#FFA15A",
           "#FFA15A",
           "#FFA15A",
           "#00cc96",
           "#00cc96",
           "#00cc96",
           "#00cc96",
           "#FF6692",
           "#19d3f3",
           "#FF6692",
           "#FF6692",
           "#FF6692",
           "#FF6692",
           "#FF6692",
           "#FF6692",
           "#B6E880",
           "#B6E880",
           "#B6E880",
           "#B6E880",
           "#B6E880",
           "#B6E880",
           "#FF97FF",
           "#FF97FF",
           "#FF97FF",
           "#FF97FF",
           "#FF6692",
           "#FF97FF",
           "#FECB52",
           "#FECB52",
           "#636efa",
           "#636efa",
           "#636efa",
           "#636efa",
           "#636efa",
           "#636efa",
           "#EF553B",
           "#EF553B",
           "#EF553B",
           "#EF553B",
           "#EF553B",
           "#EF553B",
           "#FECB52",
           "#FECB52",
           "#FECB52",
           "#FECB52",
           "#FF6692",
           "#FF97FF",
           "#19d3f3",
           "#00cc96",
           "#00cc96",
           "#00cc96",
           "#ab63fa",
           "#ab63fa",
           "#ab63fa",
           "#ab63fa",
           "#ab63fa",
           "#ab63fa",
           "#FFA15A",
           "#FFA15A",
           "#FFA15A",
           "#FFA15A",
           "#FFA15A",
           "#FFA15A",
           "#00cc96",
           "#19d3f3",
           "#00cc96",
           "#19d3f3",
           "#FECB52",
           "#19d3f3",
           "#19d3f3",
           "#19d3f3",
           "#FF6692",
           "#FF6692",
           "#FF6692",
           "#FF6692",
           "#FF6692",
           "#FF6692",
           "#19d3f3",
           "#19d3f3",
           "#19d3f3",
           "#19d3f3",
           "#19d3f3",
           "#00cc96",
           "#FECB52"
          ]
         },
         "name": "",
         "parents": [
          "2018",
          "2021",
          "2020",
          "2019",
          "2018",
          "2023",
          "2022",
          "2022",
          "2021",
          "2019",
          "2018",
          "2023",
          "2022",
          "2021",
          "2020",
          "2020",
          "2018",
          "2019",
          "2020",
          "2023",
          "2022",
          "2021",
          "2020",
          "2019",
          "2018",
          "2023",
          "2022",
          "2021",
          "2020",
          "2019",
          "2018",
          "2023",
          "2022",
          "2021",
          "2019",
          "2018",
          "2023",
          "2022",
          "2021",
          "2020",
          "2019",
          "2018",
          "2023",
          "2021",
          "2020",
          "2019",
          "2018",
          "2023",
          "2022",
          "2021",
          "2020",
          "2019",
          "2023",
          "2022",
          "2023",
          "2022",
          "2021",
          "2018",
          "2020",
          "2019",
          "2018",
          "2023",
          "2021",
          "2020",
          "2022",
          "2018",
          "2023",
          "2022",
          "2021",
          "2020",
          "2019",
          "2019",
          "2023",
          "2022",
          "2018",
          "2019",
          "2020",
          "2021",
          "2023",
          "2019",
          "2019",
          "2020",
          "2021",
          "2022",
          "2023",
          "2018",
          "2022",
          "2018",
          "2021",
          "2022",
          "2019",
          "2020",
          "2023",
          "2018",
          "2019",
          "2020",
          "2021",
          "2022",
          "2023",
          "2018",
          "2019",
          "2020",
          "2021",
          "2022",
          "2023",
          "2018",
          "2020",
          "2021",
          "",
          "2023",
          "2019",
          "2020",
          "2021",
          "2022",
          "2023",
          "2018",
          "2019",
          "2020",
          "2021",
          "2022",
          "2023",
          "",
          "",
          "",
          "2021",
          "2018",
          "2022",
          "2023",
          "2021",
          "2018",
          "2019",
          "2020",
          "2021",
          "2022",
          "2023",
          "2018",
          "2019",
          "2020",
          "2021",
          "2022",
          "2023",
          "2018",
          "2019",
          "2020",
          "2022",
          "2020",
          "2020",
          "2018",
          "2019",
          "2020",
          "2021",
          "2022",
          "2023",
          "2018",
          "2019",
          "2020",
          "2021",
          "2022",
          "2023",
          "2018",
          "2019",
          "2020",
          "2021",
          "2018",
          "2022",
          "2023",
          "2021",
          "2018",
          "2019",
          "2020",
          "2021",
          "2022",
          "2023",
          "2018",
          "2019",
          "2020",
          "2021",
          "2022",
          "2023",
          "2018",
          "2019",
          "2020",
          "2022",
          "2019",
          "2023",
          "2019",
          "2021",
          "2022",
          "2023",
          "2018",
          "2019",
          "2020",
          "2021",
          "2022",
          "2023",
          "2018",
          "2019",
          "2020",
          "2021",
          "2022",
          "2023",
          "2020",
          "2018",
          "2019",
          "2023",
          "",
          "2021",
          "2022",
          "2023",
          "2018",
          "2019",
          "2020",
          "2021",
          "2022",
          "2023",
          "2018",
          "2019",
          "2020",
          "2021",
          "2022",
          "2018",
          ""
         ],
         "type": "sunburst",
         "values": [
          189076103.93870562,
          1421423073338.7065,
          632919032875.1254,
          372397227324.47296,
          95756508188.45007,
          59018755818,
          28812496253.653797,
          2589348234429.1978,
          15995079861.734575,
          3855923788.4743843,
          1584119368.2444308,
          1388610497284,
          811709461511.0791,
          389143833302.3664,
          168870698969.7404,
          7095440039.008441,
          2648632615.8623376,
          7991018040.660503,
          15862123990.465132,
          2712655217712,
          1655083232360.4136,
          919363346880.7799,
          432253934294.45703,
          198402034603.3909,
          59879940980.86021,
          2746057632855,
          1904701900776.3872,
          1008870041432.779,
          427697735578.54596,
          221330052546.92612,
          62438058555.73311,
          155172024249,
          87188734809.4118,
          46875779174.903435,
          76493959978.81706,
          22132045738.81615,
          2780980596024,
          80898004012.55627,
          20891839223.92119,
          9388678101.718954,
          3465824194.9921308,
          1127123964.1846063,
          10211019479367,
          3663664651932.972,
          1677246580653.8606,
          537791374418.896,
          122072014670.51256,
          20933022113,
          12110256728.721603,
          4925488080.627313,
          1296423416.3566349,
          473464756.9538249,
          58947309456,
          35669777484.86406,
          81456467998,
          5583977087511.611,
          42203561314.79385,
          13207547440.677624,
          20210041054.420696,
          12511344054.98868,
          4976604721.92664,
          4848212877115,
          1571988279912.981,
          650297855404.3823,
          3093331786930.0337,
          68085690829.1683,
          977126607203,
          639534078221.9308,
          290404405089.309,
          110492731052.4569,
          47189496241.51555,
          265641475630.15695,
          806055297216,
          4870329655297.475,
          86435235061.03609,
          422169171829.8179,
          1063784597563.2378,
          2667641093913.6895,
          7119974013567,
          302562182998.0741,
          3258113927.9166813,
          5428297593.988991,
          11828687431.960222,
          21599802879.481823,
          32040764350,
          104019568190.86197,
          573162274659.484,
          826565609.5017353,
          324924632736.3339,
          23619603937.280903,
          85084901248.66106,
          562710808075.9298,
          34126672259,
          59640327897.653206,
          217255933793.6468,
          484456441630.34186,
          1148293622288.5684,
          2178024945984.4155,
          3372391235528,
          1494976831.8199751,
          5510656609.768643,
          12693914904.672987,
          31551770500.532528,
          47858742749.47099,
          63078124152,
          25313100054.33232,
          155557338145.48206,
          1321086760548.9321,
          34598699687166.48,
          3197922154236,
          38074800401.36056,
          86148518258.20546,
          193954612217.72195,
          367429460295.131,
          518098625366,
          111588715417.22627,
          266014506614.47696,
          552731584289.0828,
          1347047122052.6953,
          2692527375013.2036,
          4227141871987,
          1623045396413.9058,
          6276688133188.953,
          14641161978060.887,
          15190245080.536985,
          13569145914.8973,
          2410492817243.7373,
          7592747865556,
          2209431888096.102,
          117864587293.96759,
          733876491896.2678,
          1895187203703.4763,
          4469364912637.35,
          9306631143014.264,
          11057352045130,
          1453619620.7517967,
          3831494007.5386124,
          8881905202.411667,
          16664559163.310623,
          32226925429.450382,
          59276533097,
          131769030564.0834,
          432248763487.03357,
          957279233292.3232,
          4448387209505.326,
          6815188546.799652,
          81863441.88618582,
          861137679.4487022,
          791262270257.2721,
          1803284146281.2314,
          4101588572149.927,
          7004230457883.775,
          11475083645117,
          19359984557.23099,
          60847539055.904396,
          149264570608.5,
          368516075314.54456,
          630505499928.9584,
          846751695456,
          279481579.94633985,
          1067934315.1684856,
          2848883646.663922,
          6778198791.432056,
          173966953727.19504,
          12068036019.89133,
          1706690592474,
          476090130557.15594,
          6187247508.720733,
          21100547734.973248,
          39961478636.56655,
          78062664021.05048,
          139387681319.08908,
          174750829653,
          13255998740.914154,
          17725904167.689518,
          38561427680.04326,
          110476786395.5471,
          164681004880.53662,
          311538043147,
          25999250107.809063,
          81863660124.86044,
          194525224779.2498,
          927721056427.8448,
          2447502004.633021,
          26233684372,
          38950329.485020205,
          38025448543.99255,
          60074798679.16432,
          23458052644,
          730694268.1707984,
          2246623525.2044663,
          5315171568.82822,
          10866898384.594563,
          28543671706.686886,
          46449038873,
          435763216.1884451,
          1113660854.118247,
          2543737303.990515,
          5468394451.983025,
          7932522228.051154,
          12794399833,
          16015727273.011726,
          16918666.73048696,
          3447137687.225151,
          10818477631726,
          64266332910905.41,
          144227595.79918185,
          213262917.87627226,
          397667843,
          82661034747.76503,
          298769094184.70654,
          764636116482.1691,
          1930334818673.949,
          3950598228726.2427,
          4928792428345,
          189848425279.9297,
          737327096552.905,
          1678817323722.2559,
          4319618186072.899,
          7845721683148.707,
          1370270699.3498354,
          94491813399121
         ]
        }
       ],
       "layout": {
        "legend": {
         "tracegroupgap": 0
        },
        "margin": {
         "t": 60
        },
        "template": {
         "data": {
          "bar": [
           {
            "error_x": {
             "color": "#2a3f5f"
            },
            "error_y": {
             "color": "#2a3f5f"
            },
            "marker": {
             "line": {
              "color": "#E5ECF6",
              "width": 0.5
             },
             "pattern": {
              "fillmode": "overlay",
              "size": 10,
              "solidity": 0.2
             }
            },
            "type": "bar"
           }
          ],
          "barpolar": [
           {
            "marker": {
             "line": {
              "color": "#E5ECF6",
              "width": 0.5
             },
             "pattern": {
              "fillmode": "overlay",
              "size": 10,
              "solidity": 0.2
             }
            },
            "type": "barpolar"
           }
          ],
          "carpet": [
           {
            "aaxis": {
             "endlinecolor": "#2a3f5f",
             "gridcolor": "white",
             "linecolor": "white",
             "minorgridcolor": "white",
             "startlinecolor": "#2a3f5f"
            },
            "baxis": {
             "endlinecolor": "#2a3f5f",
             "gridcolor": "white",
             "linecolor": "white",
             "minorgridcolor": "white",
             "startlinecolor": "#2a3f5f"
            },
            "type": "carpet"
           }
          ],
          "choropleth": [
           {
            "colorbar": {
             "outlinewidth": 0,
             "ticks": ""
            },
            "type": "choropleth"
           }
          ],
          "contour": [
           {
            "colorbar": {
             "outlinewidth": 0,
             "ticks": ""
            },
            "colorscale": [
             [
              0,
              "#0d0887"
             ],
             [
              0.1111111111111111,
              "#46039f"
             ],
             [
              0.2222222222222222,
              "#7201a8"
             ],
             [
              0.3333333333333333,
              "#9c179e"
             ],
             [
              0.4444444444444444,
              "#bd3786"
             ],
             [
              0.5555555555555556,
              "#d8576b"
             ],
             [
              0.6666666666666666,
              "#ed7953"
             ],
             [
              0.7777777777777778,
              "#fb9f3a"
             ],
             [
              0.8888888888888888,
              "#fdca26"
             ],
             [
              1,
              "#f0f921"
             ]
            ],
            "type": "contour"
           }
          ],
          "contourcarpet": [
           {
            "colorbar": {
             "outlinewidth": 0,
             "ticks": ""
            },
            "type": "contourcarpet"
           }
          ],
          "heatmap": [
           {
            "colorbar": {
             "outlinewidth": 0,
             "ticks": ""
            },
            "colorscale": [
             [
              0,
              "#0d0887"
             ],
             [
              0.1111111111111111,
              "#46039f"
             ],
             [
              0.2222222222222222,
              "#7201a8"
             ],
             [
              0.3333333333333333,
              "#9c179e"
             ],
             [
              0.4444444444444444,
              "#bd3786"
             ],
             [
              0.5555555555555556,
              "#d8576b"
             ],
             [
              0.6666666666666666,
              "#ed7953"
             ],
             [
              0.7777777777777778,
              "#fb9f3a"
             ],
             [
              0.8888888888888888,
              "#fdca26"
             ],
             [
              1,
              "#f0f921"
             ]
            ],
            "type": "heatmap"
           }
          ],
          "heatmapgl": [
           {
            "colorbar": {
             "outlinewidth": 0,
             "ticks": ""
            },
            "colorscale": [
             [
              0,
              "#0d0887"
             ],
             [
              0.1111111111111111,
              "#46039f"
             ],
             [
              0.2222222222222222,
              "#7201a8"
             ],
             [
              0.3333333333333333,
              "#9c179e"
             ],
             [
              0.4444444444444444,
              "#bd3786"
             ],
             [
              0.5555555555555556,
              "#d8576b"
             ],
             [
              0.6666666666666666,
              "#ed7953"
             ],
             [
              0.7777777777777778,
              "#fb9f3a"
             ],
             [
              0.8888888888888888,
              "#fdca26"
             ],
             [
              1,
              "#f0f921"
             ]
            ],
            "type": "heatmapgl"
           }
          ],
          "histogram": [
           {
            "marker": {
             "pattern": {
              "fillmode": "overlay",
              "size": 10,
              "solidity": 0.2
             }
            },
            "type": "histogram"
           }
          ],
          "histogram2d": [
           {
            "colorbar": {
             "outlinewidth": 0,
             "ticks": ""
            },
            "colorscale": [
             [
              0,
              "#0d0887"
             ],
             [
              0.1111111111111111,
              "#46039f"
             ],
             [
              0.2222222222222222,
              "#7201a8"
             ],
             [
              0.3333333333333333,
              "#9c179e"
             ],
             [
              0.4444444444444444,
              "#bd3786"
             ],
             [
              0.5555555555555556,
              "#d8576b"
             ],
             [
              0.6666666666666666,
              "#ed7953"
             ],
             [
              0.7777777777777778,
              "#fb9f3a"
             ],
             [
              0.8888888888888888,
              "#fdca26"
             ],
             [
              1,
              "#f0f921"
             ]
            ],
            "type": "histogram2d"
           }
          ],
          "histogram2dcontour": [
           {
            "colorbar": {
             "outlinewidth": 0,
             "ticks": ""
            },
            "colorscale": [
             [
              0,
              "#0d0887"
             ],
             [
              0.1111111111111111,
              "#46039f"
             ],
             [
              0.2222222222222222,
              "#7201a8"
             ],
             [
              0.3333333333333333,
              "#9c179e"
             ],
             [
              0.4444444444444444,
              "#bd3786"
             ],
             [
              0.5555555555555556,
              "#d8576b"
             ],
             [
              0.6666666666666666,
              "#ed7953"
             ],
             [
              0.7777777777777778,
              "#fb9f3a"
             ],
             [
              0.8888888888888888,
              "#fdca26"
             ],
             [
              1,
              "#f0f921"
             ]
            ],
            "type": "histogram2dcontour"
           }
          ],
          "mesh3d": [
           {
            "colorbar": {
             "outlinewidth": 0,
             "ticks": ""
            },
            "type": "mesh3d"
           }
          ],
          "parcoords": [
           {
            "line": {
             "colorbar": {
              "outlinewidth": 0,
              "ticks": ""
             }
            },
            "type": "parcoords"
           }
          ],
          "pie": [
           {
            "automargin": true,
            "type": "pie"
           }
          ],
          "scatter": [
           {
            "fillpattern": {
             "fillmode": "overlay",
             "size": 10,
             "solidity": 0.2
            },
            "type": "scatter"
           }
          ],
          "scatter3d": [
           {
            "line": {
             "colorbar": {
              "outlinewidth": 0,
              "ticks": ""
             }
            },
            "marker": {
             "colorbar": {
              "outlinewidth": 0,
              "ticks": ""
             }
            },
            "type": "scatter3d"
           }
          ],
          "scattercarpet": [
           {
            "marker": {
             "colorbar": {
              "outlinewidth": 0,
              "ticks": ""
             }
            },
            "type": "scattercarpet"
           }
          ],
          "scattergeo": [
           {
            "marker": {
             "colorbar": {
              "outlinewidth": 0,
              "ticks": ""
             }
            },
            "type": "scattergeo"
           }
          ],
          "scattergl": [
           {
            "marker": {
             "colorbar": {
              "outlinewidth": 0,
              "ticks": ""
             }
            },
            "type": "scattergl"
           }
          ],
          "scattermapbox": [
           {
            "marker": {
             "colorbar": {
              "outlinewidth": 0,
              "ticks": ""
             }
            },
            "type": "scattermapbox"
           }
          ],
          "scatterpolar": [
           {
            "marker": {
             "colorbar": {
              "outlinewidth": 0,
              "ticks": ""
             }
            },
            "type": "scatterpolar"
           }
          ],
          "scatterpolargl": [
           {
            "marker": {
             "colorbar": {
              "outlinewidth": 0,
              "ticks": ""
             }
            },
            "type": "scatterpolargl"
           }
          ],
          "scatterternary": [
           {
            "marker": {
             "colorbar": {
              "outlinewidth": 0,
              "ticks": ""
             }
            },
            "type": "scatterternary"
           }
          ],
          "surface": [
           {
            "colorbar": {
             "outlinewidth": 0,
             "ticks": ""
            },
            "colorscale": [
             [
              0,
              "#0d0887"
             ],
             [
              0.1111111111111111,
              "#46039f"
             ],
             [
              0.2222222222222222,
              "#7201a8"
             ],
             [
              0.3333333333333333,
              "#9c179e"
             ],
             [
              0.4444444444444444,
              "#bd3786"
             ],
             [
              0.5555555555555556,
              "#d8576b"
             ],
             [
              0.6666666666666666,
              "#ed7953"
             ],
             [
              0.7777777777777778,
              "#fb9f3a"
             ],
             [
              0.8888888888888888,
              "#fdca26"
             ],
             [
              1,
              "#f0f921"
             ]
            ],
            "type": "surface"
           }
          ],
          "table": [
           {
            "cells": {
             "fill": {
              "color": "#EBF0F8"
             },
             "line": {
              "color": "white"
             }
            },
            "header": {
             "fill": {
              "color": "#C8D4E3"
             },
             "line": {
              "color": "white"
             }
            },
            "type": "table"
           }
          ]
         },
         "layout": {
          "annotationdefaults": {
           "arrowcolor": "#2a3f5f",
           "arrowhead": 0,
           "arrowwidth": 1
          },
          "autotypenumbers": "strict",
          "coloraxis": {
           "colorbar": {
            "outlinewidth": 0,
            "ticks": ""
           }
          },
          "colorscale": {
           "diverging": [
            [
             0,
             "#8e0152"
            ],
            [
             0.1,
             "#c51b7d"
            ],
            [
             0.2,
             "#de77ae"
            ],
            [
             0.3,
             "#f1b6da"
            ],
            [
             0.4,
             "#fde0ef"
            ],
            [
             0.5,
             "#f7f7f7"
            ],
            [
             0.6,
             "#e6f5d0"
            ],
            [
             0.7,
             "#b8e186"
            ],
            [
             0.8,
             "#7fbc41"
            ],
            [
             0.9,
             "#4d9221"
            ],
            [
             1,
             "#276419"
            ]
           ],
           "sequential": [
            [
             0,
             "#0d0887"
            ],
            [
             0.1111111111111111,
             "#46039f"
            ],
            [
             0.2222222222222222,
             "#7201a8"
            ],
            [
             0.3333333333333333,
             "#9c179e"
            ],
            [
             0.4444444444444444,
             "#bd3786"
            ],
            [
             0.5555555555555556,
             "#d8576b"
            ],
            [
             0.6666666666666666,
             "#ed7953"
            ],
            [
             0.7777777777777778,
             "#fb9f3a"
            ],
            [
             0.8888888888888888,
             "#fdca26"
            ],
            [
             1,
             "#f0f921"
            ]
           ],
           "sequentialminus": [
            [
             0,
             "#0d0887"
            ],
            [
             0.1111111111111111,
             "#46039f"
            ],
            [
             0.2222222222222222,
             "#7201a8"
            ],
            [
             0.3333333333333333,
             "#9c179e"
            ],
            [
             0.4444444444444444,
             "#bd3786"
            ],
            [
             0.5555555555555556,
             "#d8576b"
            ],
            [
             0.6666666666666666,
             "#ed7953"
            ],
            [
             0.7777777777777778,
             "#fb9f3a"
            ],
            [
             0.8888888888888888,
             "#fdca26"
            ],
            [
             1,
             "#f0f921"
            ]
           ]
          },
          "colorway": [
           "#636efa",
           "#EF553B",
           "#00cc96",
           "#ab63fa",
           "#FFA15A",
           "#19d3f3",
           "#FF6692",
           "#B6E880",
           "#FF97FF",
           "#FECB52"
          ],
          "font": {
           "color": "#2a3f5f"
          },
          "geo": {
           "bgcolor": "white",
           "lakecolor": "white",
           "landcolor": "#E5ECF6",
           "showlakes": true,
           "showland": true,
           "subunitcolor": "white"
          },
          "hoverlabel": {
           "align": "left"
          },
          "hovermode": "closest",
          "mapbox": {
           "style": "light"
          },
          "paper_bgcolor": "white",
          "plot_bgcolor": "#E5ECF6",
          "polar": {
           "angularaxis": {
            "gridcolor": "white",
            "linecolor": "white",
            "ticks": ""
           },
           "bgcolor": "#E5ECF6",
           "radialaxis": {
            "gridcolor": "white",
            "linecolor": "white",
            "ticks": ""
           }
          },
          "scene": {
           "xaxis": {
            "backgroundcolor": "#E5ECF6",
            "gridcolor": "white",
            "gridwidth": 2,
            "linecolor": "white",
            "showbackground": true,
            "ticks": "",
            "zerolinecolor": "white"
           },
           "yaxis": {
            "backgroundcolor": "#E5ECF6",
            "gridcolor": "white",
            "gridwidth": 2,
            "linecolor": "white",
            "showbackground": true,
            "ticks": "",
            "zerolinecolor": "white"
           },
           "zaxis": {
            "backgroundcolor": "#E5ECF6",
            "gridcolor": "white",
            "gridwidth": 2,
            "linecolor": "white",
            "showbackground": true,
            "ticks": "",
            "zerolinecolor": "white"
           }
          },
          "shapedefaults": {
           "line": {
            "color": "#2a3f5f"
           }
          },
          "ternary": {
           "aaxis": {
            "gridcolor": "white",
            "linecolor": "white",
            "ticks": ""
           },
           "baxis": {
            "gridcolor": "white",
            "linecolor": "white",
            "ticks": ""
           },
           "bgcolor": "#E5ECF6",
           "caxis": {
            "gridcolor": "white",
            "linecolor": "white",
            "ticks": ""
           }
          },
          "title": {
           "x": 0.05
          },
          "xaxis": {
           "automargin": true,
           "gridcolor": "white",
           "linecolor": "white",
           "ticks": "",
           "title": {
            "standoff": 15
           },
           "zerolinecolor": "white",
           "zerolinewidth": 2
          },
          "yaxis": {
           "automargin": true,
           "gridcolor": "white",
           "linecolor": "white",
           "ticks": "",
           "title": {
            "standoff": 15
           },
           "zerolinecolor": "white",
           "zerolinewidth": 2
          }
         }
        }
       }
      }
     },
     "metadata": {},
     "output_type": "display_data"
    }
   ],
   "source": []
  },
  {
   "cell_type": "code",
   "execution_count": 9,
   "metadata": {},
   "outputs": [],
   "source": [
    "path4='D:/PhonePe Pulse Data Visualization and Exploration/pulse/data/map/user/hover/country/india/state/'\n",
    "\n",
    "map_user_list=os.listdir(path4)\n",
    "\n",
    "clm4={'State':[], 'Year':[],'Quarter':[],'District':[], 'Registered_user':[], 'App_opens':[]}\n",
    "\n",
    "for i in map_user_list:\n",
    "    p_i=path4+i+\"/\"\n",
    "    map_yr=os.listdir(p_i)\n",
    "\n",
    "    for j in map_yr:\n",
    "        p_j=p_i+j+\"/\"\n",
    "        map_yr_list=os.listdir(p_j)\n",
    "\n",
    "        for k in map_yr_list:\n",
    "            p_k=p_j+k\n",
    "            Data=open(p_k,'r')\n",
    "            D=json.load(Data)\n",
    "            for z in D['data']['hoverData'].items():\n",
    "                district = z[0]\n",
    "                registered_user = z[1][\"registeredUsers\"]\n",
    "                app_opens = z[1][\"appOpens\"]\n",
    "                clm4[\"District\"].append(district)\n",
    "                clm4[\"Registered_user\"].append(registered_user)\n",
    "                clm4[\"App_opens\"].append(app_opens)\n",
    "                clm4[\"State\"].append(i)\n",
    "                clm4[\"Year\"].append(j)\n",
    "                clm4[\"Quarter\"].append(int(k.strip('.json')))\n",
    "            \n",
    "Map_users=pd.DataFrame(clm4)"
   ]
  },
  {
   "cell_type": "code",
   "execution_count": 12,
   "metadata": {},
   "outputs": [
    {
     "data": {
      "text/plain": [
       "[0               0\n",
       " 1               0\n",
       " 2               0\n",
       " 3               0\n",
       " 4               0\n",
       "            ...   \n",
       " 17563    67224546\n",
       " 17564    52281841\n",
       " 17565    69991821\n",
       " 17566    88292475\n",
       " 17567    39079247\n",
       " Name: App_opens, Length: 17568, dtype: int64]"
      ]
     },
     "execution_count": 12,
     "metadata": {},
     "output_type": "execute_result"
    }
   ],
   "source": []
  },
  {
   "cell_type": "code",
   "execution_count": 173,
   "metadata": {},
   "outputs": [],
   "source": [
    "path5='D:/PhonePe Pulse Data Visualization and Exploration/pulse/data/top/transaction/country/india/state/'\n",
    "\n",
    "top_trans_list=os.listdir(path5)\n",
    "\n",
    "clm5={'State':[], 'Year':[],'Quarter':[],'Pincode':[], 'Transaction_count':[], 'Transaction_amount':[]}\n",
    "\n",
    "for i in top_trans_list:\n",
    "    p_i=path5+i+\"/\"\n",
    "    top_yr=os.listdir(p_i)\n",
    "\n",
    "    for j in top_yr:\n",
    "        p_j=p_i+j+\"/\"\n",
    "        top_yr_list=os.listdir(p_j)\n",
    "\n",
    "        for k in top_yr_list:\n",
    "            p_k=p_j+k\n",
    "            Data=open(p_k,'r')\n",
    "            D=json.load(Data)\n",
    "            for z in D['data']['pincodes']:\n",
    "                entity_name = z['entityName']\n",
    "                count = z[\"metric\"][\"count\"]\n",
    "                amount = z[\"metric\"][\"amount\"]\n",
    "                clm5[\"Pincode\"].append(entity_name)\n",
    "                clm5[\"Transaction_count\"].append(count)\n",
    "                clm5[\"Transaction_amount\"].append(amount)\n",
    "                clm5[\"State\"].append(i)\n",
    "                clm5[\"Year\"].append(j)\n",
    "                clm5[\"Quarter\"].append(int(k.strip('.json')))\n",
    "            \n",
    "Top_trans=pd.DataFrame(clm5)"
   ]
  },
  {
   "cell_type": "code",
   "execution_count": 174,
   "metadata": {},
   "outputs": [
    {
     "data": {
      "text/html": [
       "<div>\n",
       "<style scoped>\n",
       "    .dataframe tbody tr th:only-of-type {\n",
       "        vertical-align: middle;\n",
       "    }\n",
       "\n",
       "    .dataframe tbody tr th {\n",
       "        vertical-align: top;\n",
       "    }\n",
       "\n",
       "    .dataframe thead th {\n",
       "        text-align: right;\n",
       "    }\n",
       "</style>\n",
       "<table border=\"1\" class=\"dataframe\">\n",
       "  <thead>\n",
       "    <tr style=\"text-align: right;\">\n",
       "      <th></th>\n",
       "      <th>State</th>\n",
       "      <th>Year</th>\n",
       "      <th>Quarter</th>\n",
       "      <th>Pincode</th>\n",
       "      <th>Transaction_count</th>\n",
       "      <th>Transaction_amount</th>\n",
       "    </tr>\n",
       "  </thead>\n",
       "  <tbody>\n",
       "    <tr>\n",
       "      <th>0</th>\n",
       "      <td>andaman-&amp;-nicobar-islands</td>\n",
       "      <td>2018</td>\n",
       "      <td>1</td>\n",
       "      <td>744101</td>\n",
       "      <td>1622</td>\n",
       "      <td>2.769298e+06</td>\n",
       "    </tr>\n",
       "    <tr>\n",
       "      <th>1</th>\n",
       "      <td>andaman-&amp;-nicobar-islands</td>\n",
       "      <td>2018</td>\n",
       "      <td>1</td>\n",
       "      <td>744103</td>\n",
       "      <td>1223</td>\n",
       "      <td>2.238042e+06</td>\n",
       "    </tr>\n",
       "    <tr>\n",
       "      <th>2</th>\n",
       "      <td>andaman-&amp;-nicobar-islands</td>\n",
       "      <td>2018</td>\n",
       "      <td>1</td>\n",
       "      <td>744102</td>\n",
       "      <td>969</td>\n",
       "      <td>3.519060e+06</td>\n",
       "    </tr>\n",
       "    <tr>\n",
       "      <th>3</th>\n",
       "      <td>andaman-&amp;-nicobar-islands</td>\n",
       "      <td>2018</td>\n",
       "      <td>1</td>\n",
       "      <td>744105</td>\n",
       "      <td>685</td>\n",
       "      <td>1.298561e+06</td>\n",
       "    </tr>\n",
       "    <tr>\n",
       "      <th>4</th>\n",
       "      <td>andaman-&amp;-nicobar-islands</td>\n",
       "      <td>2018</td>\n",
       "      <td>1</td>\n",
       "      <td>744104</td>\n",
       "      <td>340</td>\n",
       "      <td>1.039715e+06</td>\n",
       "    </tr>\n",
       "    <tr>\n",
       "      <th>...</th>\n",
       "      <td>...</td>\n",
       "      <td>...</td>\n",
       "      <td>...</td>\n",
       "      <td>...</td>\n",
       "      <td>...</td>\n",
       "      <td>...</td>\n",
       "    </tr>\n",
       "    <tr>\n",
       "      <th>8562</th>\n",
       "      <td>west-bengal</td>\n",
       "      <td>2023</td>\n",
       "      <td>4</td>\n",
       "      <td>721301</td>\n",
       "      <td>4133775</td>\n",
       "      <td>5.718222e+09</td>\n",
       "    </tr>\n",
       "    <tr>\n",
       "      <th>8563</th>\n",
       "      <td>west-bengal</td>\n",
       "      <td>2023</td>\n",
       "      <td>4</td>\n",
       "      <td>700001</td>\n",
       "      <td>3983241</td>\n",
       "      <td>8.039689e+09</td>\n",
       "    </tr>\n",
       "    <tr>\n",
       "      <th>8564</th>\n",
       "      <td>west-bengal</td>\n",
       "      <td>2023</td>\n",
       "      <td>4</td>\n",
       "      <td>732125</td>\n",
       "      <td>3950411</td>\n",
       "      <td>6.557345e+09</td>\n",
       "    </tr>\n",
       "    <tr>\n",
       "      <th>8565</th>\n",
       "      <td>west-bengal</td>\n",
       "      <td>2023</td>\n",
       "      <td>4</td>\n",
       "      <td>700039</td>\n",
       "      <td>3742452</td>\n",
       "      <td>5.608622e+09</td>\n",
       "    </tr>\n",
       "    <tr>\n",
       "      <th>8566</th>\n",
       "      <td>west-bengal</td>\n",
       "      <td>2023</td>\n",
       "      <td>4</td>\n",
       "      <td>700014</td>\n",
       "      <td>3652710</td>\n",
       "      <td>6.184795e+09</td>\n",
       "    </tr>\n",
       "  </tbody>\n",
       "</table>\n",
       "<p>8567 rows × 6 columns</p>\n",
       "</div>"
      ],
      "text/plain": [
       "                          State  Year  Quarter Pincode  Transaction_count  \\\n",
       "0     andaman-&-nicobar-islands  2018        1  744101               1622   \n",
       "1     andaman-&-nicobar-islands  2018        1  744103               1223   \n",
       "2     andaman-&-nicobar-islands  2018        1  744102                969   \n",
       "3     andaman-&-nicobar-islands  2018        1  744105                685   \n",
       "4     andaman-&-nicobar-islands  2018        1  744104                340   \n",
       "...                         ...   ...      ...     ...                ...   \n",
       "8562                west-bengal  2023        4  721301            4133775   \n",
       "8563                west-bengal  2023        4  700001            3983241   \n",
       "8564                west-bengal  2023        4  732125            3950411   \n",
       "8565                west-bengal  2023        4  700039            3742452   \n",
       "8566                west-bengal  2023        4  700014            3652710   \n",
       "\n",
       "      Transaction_amount  \n",
       "0           2.769298e+06  \n",
       "1           2.238042e+06  \n",
       "2           3.519060e+06  \n",
       "3           1.298561e+06  \n",
       "4           1.039715e+06  \n",
       "...                  ...  \n",
       "8562        5.718222e+09  \n",
       "8563        8.039689e+09  \n",
       "8564        6.557345e+09  \n",
       "8565        5.608622e+09  \n",
       "8566        6.184795e+09  \n",
       "\n",
       "[8567 rows x 6 columns]"
      ]
     },
     "execution_count": 174,
     "metadata": {},
     "output_type": "execute_result"
    }
   ],
   "source": [
    "Top_trans"
   ]
  },
  {
   "cell_type": "code",
   "execution_count": 175,
   "metadata": {},
   "outputs": [],
   "source": [
    "path6='D:/PhonePe Pulse Data Visualization and Exploration/pulse/data/top/user/country/india/state/'\n",
    "\n",
    "top_user_list=os.listdir(path6)\n",
    "\n",
    "clm6={'State':[], 'Year':[],'Quarter':[],'Pincode':[], 'Registered_user':[]}\n",
    "\n",
    "for i in top_user_list:\n",
    "    p_i=path6+i+\"/\"\n",
    "    top_yr=os.listdir(p_i)\n",
    "\n",
    "    for j in top_yr:\n",
    "        p_j=p_i+j+\"/\"\n",
    "        top_yr_list=os.listdir(p_j)\n",
    "\n",
    "        for k in top_yr_list:\n",
    "            p_k=p_j+k\n",
    "            Data=open(p_k,'r')\n",
    "            D=json.load(Data)\n",
    "            for z in D['data']['pincodes']:\n",
    "                name = z[\"name\"]\n",
    "                registered_users = z[\"registeredUsers\"]\n",
    "                clm6[\"Pincode\"].append(name)\n",
    "                clm6[\"Registered_user\"].append(registered_users)\n",
    "                clm6[\"State\"].append(i)\n",
    "                clm6[\"Year\"].append(j)\n",
    "                clm6[\"Quarter\"].append(int(k.strip('.json')))\n",
    "            \n",
    "Top_user=pd.DataFrame(clm6)"
   ]
  },
  {
   "cell_type": "code",
   "execution_count": 176,
   "metadata": {},
   "outputs": [
    {
     "data": {
      "text/html": [
       "<div>\n",
       "<style scoped>\n",
       "    .dataframe tbody tr th:only-of-type {\n",
       "        vertical-align: middle;\n",
       "    }\n",
       "\n",
       "    .dataframe tbody tr th {\n",
       "        vertical-align: top;\n",
       "    }\n",
       "\n",
       "    .dataframe thead th {\n",
       "        text-align: right;\n",
       "    }\n",
       "</style>\n",
       "<table border=\"1\" class=\"dataframe\">\n",
       "  <thead>\n",
       "    <tr style=\"text-align: right;\">\n",
       "      <th></th>\n",
       "      <th>State</th>\n",
       "      <th>Year</th>\n",
       "      <th>Quarter</th>\n",
       "      <th>Pincode</th>\n",
       "      <th>Registered_user</th>\n",
       "    </tr>\n",
       "  </thead>\n",
       "  <tbody>\n",
       "    <tr>\n",
       "      <th>0</th>\n",
       "      <td>andaman-&amp;-nicobar-islands</td>\n",
       "      <td>2018</td>\n",
       "      <td>1</td>\n",
       "      <td>744103</td>\n",
       "      <td>1608</td>\n",
       "    </tr>\n",
       "    <tr>\n",
       "      <th>1</th>\n",
       "      <td>andaman-&amp;-nicobar-islands</td>\n",
       "      <td>2018</td>\n",
       "      <td>1</td>\n",
       "      <td>744101</td>\n",
       "      <td>1108</td>\n",
       "    </tr>\n",
       "    <tr>\n",
       "      <th>2</th>\n",
       "      <td>andaman-&amp;-nicobar-islands</td>\n",
       "      <td>2018</td>\n",
       "      <td>1</td>\n",
       "      <td>744105</td>\n",
       "      <td>1075</td>\n",
       "    </tr>\n",
       "    <tr>\n",
       "      <th>3</th>\n",
       "      <td>andaman-&amp;-nicobar-islands</td>\n",
       "      <td>2018</td>\n",
       "      <td>1</td>\n",
       "      <td>744102</td>\n",
       "      <td>1006</td>\n",
       "    </tr>\n",
       "    <tr>\n",
       "      <th>4</th>\n",
       "      <td>andaman-&amp;-nicobar-islands</td>\n",
       "      <td>2018</td>\n",
       "      <td>1</td>\n",
       "      <td>744104</td>\n",
       "      <td>272</td>\n",
       "    </tr>\n",
       "    <tr>\n",
       "      <th>...</th>\n",
       "      <td>...</td>\n",
       "      <td>...</td>\n",
       "      <td>...</td>\n",
       "      <td>...</td>\n",
       "      <td>...</td>\n",
       "    </tr>\n",
       "    <tr>\n",
       "      <th>8563</th>\n",
       "      <td>west-bengal</td>\n",
       "      <td>2023</td>\n",
       "      <td>4</td>\n",
       "      <td>700015</td>\n",
       "      <td>126663</td>\n",
       "    </tr>\n",
       "    <tr>\n",
       "      <th>8564</th>\n",
       "      <td>west-bengal</td>\n",
       "      <td>2023</td>\n",
       "      <td>4</td>\n",
       "      <td>742304</td>\n",
       "      <td>123320</td>\n",
       "    </tr>\n",
       "    <tr>\n",
       "      <th>8565</th>\n",
       "      <td>west-bengal</td>\n",
       "      <td>2023</td>\n",
       "      <td>4</td>\n",
       "      <td>721101</td>\n",
       "      <td>123088</td>\n",
       "    </tr>\n",
       "    <tr>\n",
       "      <th>8566</th>\n",
       "      <td>west-bengal</td>\n",
       "      <td>2023</td>\n",
       "      <td>4</td>\n",
       "      <td>700150</td>\n",
       "      <td>119283</td>\n",
       "    </tr>\n",
       "    <tr>\n",
       "      <th>8567</th>\n",
       "      <td>west-bengal</td>\n",
       "      <td>2023</td>\n",
       "      <td>4</td>\n",
       "      <td>700091</td>\n",
       "      <td>118578</td>\n",
       "    </tr>\n",
       "  </tbody>\n",
       "</table>\n",
       "<p>8568 rows × 5 columns</p>\n",
       "</div>"
      ],
      "text/plain": [
       "                          State  Year  Quarter Pincode  Registered_user\n",
       "0     andaman-&-nicobar-islands  2018        1  744103             1608\n",
       "1     andaman-&-nicobar-islands  2018        1  744101             1108\n",
       "2     andaman-&-nicobar-islands  2018        1  744105             1075\n",
       "3     andaman-&-nicobar-islands  2018        1  744102             1006\n",
       "4     andaman-&-nicobar-islands  2018        1  744104              272\n",
       "...                         ...   ...      ...     ...              ...\n",
       "8563                west-bengal  2023        4  700015           126663\n",
       "8564                west-bengal  2023        4  742304           123320\n",
       "8565                west-bengal  2023        4  721101           123088\n",
       "8566                west-bengal  2023        4  700150           119283\n",
       "8567                west-bengal  2023        4  700091           118578\n",
       "\n",
       "[8568 rows x 5 columns]"
      ]
     },
     "execution_count": 176,
     "metadata": {},
     "output_type": "execute_result"
    }
   ],
   "source": [
    "Top_user"
   ]
  },
  {
   "cell_type": "code",
   "execution_count": 177,
   "metadata": {},
   "outputs": [],
   "source": [
    "path7=\"D:/PhonePe Pulse Data Visualization and Exploration/pulse/data//aggregated/insurance/country/india/state/\"\n",
    "Agg_state_list3=os.listdir(path7)\n",
    "clm7={'State':[], 'Year':[],'Quarter':[],'Insurance_type':[], 'Insurance_count':[], 'Insurance_amount':[]}\n",
    "\n",
    "for i in Agg_state_list3:\n",
    "    p_i=path7+i+\"/\"\n",
    "    Agg_yr=os.listdir(p_i)\n",
    "    for j in Agg_yr:\n",
    "        p_j=p_i+j+\"/\"\n",
    "        Agg_qr_list=os.listdir(p_j)\n",
    "        for k in Agg_qr_list:\n",
    "            p_k=p_j+k\n",
    "            Data=open(p_k,'r')\n",
    "            D=json.load(Data)\n",
    "            for z in D['data']['transactionData']:\n",
    "              Name=z['name']\n",
    "              count=z['paymentInstruments'][0]['count']\n",
    "              amount=z['paymentInstruments'][0]['amount']\n",
    "              clm7['Insurance_type'].append(Name)\n",
    "              clm7['Insurance_count'].append(count)\n",
    "              clm7['Insurance_amount'].append(amount)\n",
    "              clm7['State'].append(i)\n",
    "              clm7['Year'].append(j)\n",
    "              clm7['Quarter'].append(int(k.strip('.json')))\n",
    "              \n",
    "Agg_Ins=pd.DataFrame(clm7)"
   ]
  },
  {
   "cell_type": "code",
   "execution_count": 178,
   "metadata": {},
   "outputs": [
    {
     "data": {
      "text/html": [
       "<div>\n",
       "<style scoped>\n",
       "    .dataframe tbody tr th:only-of-type {\n",
       "        vertical-align: middle;\n",
       "    }\n",
       "\n",
       "    .dataframe tbody tr th {\n",
       "        vertical-align: top;\n",
       "    }\n",
       "\n",
       "    .dataframe thead th {\n",
       "        text-align: right;\n",
       "    }\n",
       "</style>\n",
       "<table border=\"1\" class=\"dataframe\">\n",
       "  <thead>\n",
       "    <tr style=\"text-align: right;\">\n",
       "      <th></th>\n",
       "      <th>State</th>\n",
       "      <th>Year</th>\n",
       "      <th>Quarter</th>\n",
       "      <th>Insurance_type</th>\n",
       "      <th>Insurance_count</th>\n",
       "      <th>Insurance_amount</th>\n",
       "    </tr>\n",
       "  </thead>\n",
       "  <tbody>\n",
       "    <tr>\n",
       "      <th>0</th>\n",
       "      <td>andaman-&amp;-nicobar-islands</td>\n",
       "      <td>2020</td>\n",
       "      <td>2</td>\n",
       "      <td>Insurance</td>\n",
       "      <td>6</td>\n",
       "      <td>1360.0</td>\n",
       "    </tr>\n",
       "    <tr>\n",
       "      <th>1</th>\n",
       "      <td>andaman-&amp;-nicobar-islands</td>\n",
       "      <td>2020</td>\n",
       "      <td>3</td>\n",
       "      <td>Insurance</td>\n",
       "      <td>41</td>\n",
       "      <td>15380.0</td>\n",
       "    </tr>\n",
       "    <tr>\n",
       "      <th>2</th>\n",
       "      <td>andaman-&amp;-nicobar-islands</td>\n",
       "      <td>2020</td>\n",
       "      <td>4</td>\n",
       "      <td>Insurance</td>\n",
       "      <td>124</td>\n",
       "      <td>157975.0</td>\n",
       "    </tr>\n",
       "    <tr>\n",
       "      <th>3</th>\n",
       "      <td>andaman-&amp;-nicobar-islands</td>\n",
       "      <td>2021</td>\n",
       "      <td>1</td>\n",
       "      <td>Insurance</td>\n",
       "      <td>225</td>\n",
       "      <td>244266.0</td>\n",
       "    </tr>\n",
       "    <tr>\n",
       "      <th>4</th>\n",
       "      <td>andaman-&amp;-nicobar-islands</td>\n",
       "      <td>2021</td>\n",
       "      <td>2</td>\n",
       "      <td>Insurance</td>\n",
       "      <td>137</td>\n",
       "      <td>181504.0</td>\n",
       "    </tr>\n",
       "    <tr>\n",
       "      <th>...</th>\n",
       "      <td>...</td>\n",
       "      <td>...</td>\n",
       "      <td>...</td>\n",
       "      <td>...</td>\n",
       "      <td>...</td>\n",
       "      <td>...</td>\n",
       "    </tr>\n",
       "    <tr>\n",
       "      <th>533</th>\n",
       "      <td>west-bengal</td>\n",
       "      <td>2022</td>\n",
       "      <td>4</td>\n",
       "      <td>Insurance</td>\n",
       "      <td>54277</td>\n",
       "      <td>70466433.0</td>\n",
       "    </tr>\n",
       "    <tr>\n",
       "      <th>534</th>\n",
       "      <td>west-bengal</td>\n",
       "      <td>2023</td>\n",
       "      <td>1</td>\n",
       "      <td>Insurance</td>\n",
       "      <td>56833</td>\n",
       "      <td>77461732.0</td>\n",
       "    </tr>\n",
       "    <tr>\n",
       "      <th>535</th>\n",
       "      <td>west-bengal</td>\n",
       "      <td>2023</td>\n",
       "      <td>2</td>\n",
       "      <td>Insurance</td>\n",
       "      <td>49792</td>\n",
       "      <td>65204280.0</td>\n",
       "    </tr>\n",
       "    <tr>\n",
       "      <th>536</th>\n",
       "      <td>west-bengal</td>\n",
       "      <td>2023</td>\n",
       "      <td>3</td>\n",
       "      <td>Insurance</td>\n",
       "      <td>58131</td>\n",
       "      <td>76359312.0</td>\n",
       "    </tr>\n",
       "    <tr>\n",
       "      <th>537</th>\n",
       "      <td>west-bengal</td>\n",
       "      <td>2023</td>\n",
       "      <td>4</td>\n",
       "      <td>Insurance</td>\n",
       "      <td>72712</td>\n",
       "      <td>100365562.0</td>\n",
       "    </tr>\n",
       "  </tbody>\n",
       "</table>\n",
       "<p>538 rows × 6 columns</p>\n",
       "</div>"
      ],
      "text/plain": [
       "                         State  Year  Quarter Insurance_type  Insurance_count  \\\n",
       "0    andaman-&-nicobar-islands  2020        2      Insurance                6   \n",
       "1    andaman-&-nicobar-islands  2020        3      Insurance               41   \n",
       "2    andaman-&-nicobar-islands  2020        4      Insurance              124   \n",
       "3    andaman-&-nicobar-islands  2021        1      Insurance              225   \n",
       "4    andaman-&-nicobar-islands  2021        2      Insurance              137   \n",
       "..                         ...   ...      ...            ...              ...   \n",
       "533                west-bengal  2022        4      Insurance            54277   \n",
       "534                west-bengal  2023        1      Insurance            56833   \n",
       "535                west-bengal  2023        2      Insurance            49792   \n",
       "536                west-bengal  2023        3      Insurance            58131   \n",
       "537                west-bengal  2023        4      Insurance            72712   \n",
       "\n",
       "     Insurance_amount  \n",
       "0              1360.0  \n",
       "1             15380.0  \n",
       "2            157975.0  \n",
       "3            244266.0  \n",
       "4            181504.0  \n",
       "..                ...  \n",
       "533        70466433.0  \n",
       "534        77461732.0  \n",
       "535        65204280.0  \n",
       "536        76359312.0  \n",
       "537       100365562.0  \n",
       "\n",
       "[538 rows x 6 columns]"
      ]
     },
     "execution_count": 178,
     "metadata": {},
     "output_type": "execute_result"
    }
   ],
   "source": [
    "Agg_Ins"
   ]
  },
  {
   "cell_type": "code",
   "execution_count": 179,
   "metadata": {},
   "outputs": [],
   "source": [
    "path8='D:/PhonePe Pulse Data Visualization and Exploration/pulse/data/map/insurance/hover/country/india/state/'\n",
    "\n",
    "map_ins_list=os.listdir(path8)\n",
    "\n",
    "clm8={'State':[], 'Year':[],'Quarter':[],'District':[], 'Transaction_count':[], 'Transaction_amount':[]}\n",
    "\n",
    "for i in map_ins_list:\n",
    "    p_i=path8+i+\"/\"\n",
    "    map_yr=os.listdir(p_i)\n",
    "\n",
    "    for j in map_yr:\n",
    "        p_j=p_i+j+\"/\"\n",
    "        map_yr_list=os.listdir(p_j)\n",
    "\n",
    "        for k in map_yr_list:\n",
    "            p_k=p_j+k\n",
    "            Data=open(p_k,'r')\n",
    "            D=json.load(Data)\n",
    "\n",
    "            for z in D['data']['hoverDataList']:\n",
    "                name=z['name']\n",
    "                count=z['metric'][0]['count']\n",
    "                amount=z['metric'][0]['amount']\n",
    "                clm8['District'].append(name)\n",
    "                clm8['Transaction_count'].append(count)\n",
    "                clm8['Transaction_amount'].append(amount)\n",
    "                clm8['State'].append(i)\n",
    "                clm8['Year'].append(j)\n",
    "                clm8['Quarter'].append(int(k.strip('.json')))\n",
    "            \n",
    "Map_ins=pd.DataFrame(clm8)"
   ]
  },
  {
   "cell_type": "code",
   "execution_count": 180,
   "metadata": {},
   "outputs": [
    {
     "data": {
      "text/html": [
       "<div>\n",
       "<style scoped>\n",
       "    .dataframe tbody tr th:only-of-type {\n",
       "        vertical-align: middle;\n",
       "    }\n",
       "\n",
       "    .dataframe tbody tr th {\n",
       "        vertical-align: top;\n",
       "    }\n",
       "\n",
       "    .dataframe thead th {\n",
       "        text-align: right;\n",
       "    }\n",
       "</style>\n",
       "<table border=\"1\" class=\"dataframe\">\n",
       "  <thead>\n",
       "    <tr style=\"text-align: right;\">\n",
       "      <th></th>\n",
       "      <th>State</th>\n",
       "      <th>Year</th>\n",
       "      <th>Quarter</th>\n",
       "      <th>District</th>\n",
       "      <th>Transaction_count</th>\n",
       "      <th>Transaction_amount</th>\n",
       "    </tr>\n",
       "  </thead>\n",
       "  <tbody>\n",
       "    <tr>\n",
       "      <th>0</th>\n",
       "      <td>andaman-&amp;-nicobar-islands</td>\n",
       "      <td>2020</td>\n",
       "      <td>2</td>\n",
       "      <td>south andaman district</td>\n",
       "      <td>3</td>\n",
       "      <td>795.0</td>\n",
       "    </tr>\n",
       "    <tr>\n",
       "      <th>1</th>\n",
       "      <td>andaman-&amp;-nicobar-islands</td>\n",
       "      <td>2020</td>\n",
       "      <td>2</td>\n",
       "      <td>nicobars district</td>\n",
       "      <td>3</td>\n",
       "      <td>565.0</td>\n",
       "    </tr>\n",
       "    <tr>\n",
       "      <th>2</th>\n",
       "      <td>andaman-&amp;-nicobar-islands</td>\n",
       "      <td>2020</td>\n",
       "      <td>3</td>\n",
       "      <td>north and middle andaman district</td>\n",
       "      <td>1</td>\n",
       "      <td>281.0</td>\n",
       "    </tr>\n",
       "    <tr>\n",
       "      <th>3</th>\n",
       "      <td>andaman-&amp;-nicobar-islands</td>\n",
       "      <td>2020</td>\n",
       "      <td>3</td>\n",
       "      <td>south andaman district</td>\n",
       "      <td>35</td>\n",
       "      <td>13651.0</td>\n",
       "    </tr>\n",
       "    <tr>\n",
       "      <th>4</th>\n",
       "      <td>andaman-&amp;-nicobar-islands</td>\n",
       "      <td>2020</td>\n",
       "      <td>3</td>\n",
       "      <td>nicobars district</td>\n",
       "      <td>5</td>\n",
       "      <td>1448.0</td>\n",
       "    </tr>\n",
       "    <tr>\n",
       "      <th>...</th>\n",
       "      <td>...</td>\n",
       "      <td>...</td>\n",
       "      <td>...</td>\n",
       "      <td>...</td>\n",
       "      <td>...</td>\n",
       "      <td>...</td>\n",
       "    </tr>\n",
       "    <tr>\n",
       "      <th>10823</th>\n",
       "      <td>west-bengal</td>\n",
       "      <td>2023</td>\n",
       "      <td>4</td>\n",
       "      <td>nadia district</td>\n",
       "      <td>2786</td>\n",
       "      <td>4012958.0</td>\n",
       "    </tr>\n",
       "    <tr>\n",
       "      <th>10824</th>\n",
       "      <td>west-bengal</td>\n",
       "      <td>2023</td>\n",
       "      <td>4</td>\n",
       "      <td>birbhum district</td>\n",
       "      <td>1162</td>\n",
       "      <td>1720043.0</td>\n",
       "    </tr>\n",
       "    <tr>\n",
       "      <th>10825</th>\n",
       "      <td>west-bengal</td>\n",
       "      <td>2023</td>\n",
       "      <td>4</td>\n",
       "      <td>purba medinipur district</td>\n",
       "      <td>2507</td>\n",
       "      <td>3400040.0</td>\n",
       "    </tr>\n",
       "    <tr>\n",
       "      <th>10826</th>\n",
       "      <td>west-bengal</td>\n",
       "      <td>2023</td>\n",
       "      <td>4</td>\n",
       "      <td>maldah district</td>\n",
       "      <td>2886</td>\n",
       "      <td>3998317.0</td>\n",
       "    </tr>\n",
       "    <tr>\n",
       "      <th>10827</th>\n",
       "      <td>west-bengal</td>\n",
       "      <td>2023</td>\n",
       "      <td>4</td>\n",
       "      <td>darjiling district</td>\n",
       "      <td>2762</td>\n",
       "      <td>4044883.0</td>\n",
       "    </tr>\n",
       "  </tbody>\n",
       "</table>\n",
       "<p>10828 rows × 6 columns</p>\n",
       "</div>"
      ],
      "text/plain": [
       "                           State  Year  Quarter  \\\n",
       "0      andaman-&-nicobar-islands  2020        2   \n",
       "1      andaman-&-nicobar-islands  2020        2   \n",
       "2      andaman-&-nicobar-islands  2020        3   \n",
       "3      andaman-&-nicobar-islands  2020        3   \n",
       "4      andaman-&-nicobar-islands  2020        3   \n",
       "...                          ...   ...      ...   \n",
       "10823                west-bengal  2023        4   \n",
       "10824                west-bengal  2023        4   \n",
       "10825                west-bengal  2023        4   \n",
       "10826                west-bengal  2023        4   \n",
       "10827                west-bengal  2023        4   \n",
       "\n",
       "                                District  Transaction_count  \\\n",
       "0                 south andaman district                  3   \n",
       "1                      nicobars district                  3   \n",
       "2      north and middle andaman district                  1   \n",
       "3                 south andaman district                 35   \n",
       "4                      nicobars district                  5   \n",
       "...                                  ...                ...   \n",
       "10823                     nadia district               2786   \n",
       "10824                   birbhum district               1162   \n",
       "10825           purba medinipur district               2507   \n",
       "10826                    maldah district               2886   \n",
       "10827                 darjiling district               2762   \n",
       "\n",
       "       Transaction_amount  \n",
       "0                   795.0  \n",
       "1                   565.0  \n",
       "2                   281.0  \n",
       "3                 13651.0  \n",
       "4                  1448.0  \n",
       "...                   ...  \n",
       "10823           4012958.0  \n",
       "10824           1720043.0  \n",
       "10825           3400040.0  \n",
       "10826           3998317.0  \n",
       "10827           4044883.0  \n",
       "\n",
       "[10828 rows x 6 columns]"
      ]
     },
     "execution_count": 180,
     "metadata": {},
     "output_type": "execute_result"
    }
   ],
   "source": [
    "Map_ins"
   ]
  },
  {
   "cell_type": "code",
   "execution_count": 181,
   "metadata": {},
   "outputs": [],
   "source": [
    "path9='D:/PhonePe Pulse Data Visualization and Exploration/pulse/data/top/insurance/country/india/state/'\n",
    "\n",
    "top_ins_list=os.listdir(path9)\n",
    "\n",
    "clm9={'State':[], 'Year':[],'Quarter':[],'Pincode':[], 'Transaction_count':[], 'Transaction_amount':[]}\n",
    "\n",
    "for i in top_ins_list:\n",
    "    p_i=path9+i+\"/\"\n",
    "    top_yr=os.listdir(p_i)\n",
    "\n",
    "    for j in top_yr:\n",
    "        p_j=p_i+j+\"/\"\n",
    "        top_yr_list=os.listdir(p_j)\n",
    "\n",
    "        for k in top_yr_list:\n",
    "            p_k=p_j+k\n",
    "            Data=open(p_k,'r')\n",
    "            D=json.load(Data)\n",
    "\n",
    "            for z in D['data']['pincodes']:\n",
    "                entity = z[\"entityName\"]\n",
    "                count = z[\"metric\"][\"count\"]\n",
    "                amount = z[\"metric\"][\"amount\"]\n",
    "                clm9[\"Pincode\"].append(entity)\n",
    "                clm9[\"Transaction_count\"].append(count)\n",
    "                clm9[\"Transaction_amount\"].append(amount)\n",
    "                clm9[\"State\"].append(i)\n",
    "                clm9[\"Year\"].append(j)\n",
    "                clm9[\"Quarter\"].append(int(k.strip('.json')))\n",
    "            \n",
    "Top_ins=pd.DataFrame(clm9)"
   ]
  },
  {
   "cell_type": "code",
   "execution_count": 182,
   "metadata": {},
   "outputs": [
    {
     "data": {
      "text/html": [
       "<div>\n",
       "<style scoped>\n",
       "    .dataframe tbody tr th:only-of-type {\n",
       "        vertical-align: middle;\n",
       "    }\n",
       "\n",
       "    .dataframe tbody tr th {\n",
       "        vertical-align: top;\n",
       "    }\n",
       "\n",
       "    .dataframe thead th {\n",
       "        text-align: right;\n",
       "    }\n",
       "</style>\n",
       "<table border=\"1\" class=\"dataframe\">\n",
       "  <thead>\n",
       "    <tr style=\"text-align: right;\">\n",
       "      <th></th>\n",
       "      <th>State</th>\n",
       "      <th>Year</th>\n",
       "      <th>Quarter</th>\n",
       "      <th>Pincode</th>\n",
       "      <th>Transaction_count</th>\n",
       "      <th>Transaction_amount</th>\n",
       "    </tr>\n",
       "  </thead>\n",
       "  <tbody>\n",
       "    <tr>\n",
       "      <th>0</th>\n",
       "      <td>andaman-&amp;-nicobar-islands</td>\n",
       "      <td>2020</td>\n",
       "      <td>2</td>\n",
       "      <td>744301</td>\n",
       "      <td>3</td>\n",
       "      <td>565.0</td>\n",
       "    </tr>\n",
       "    <tr>\n",
       "      <th>1</th>\n",
       "      <td>andaman-&amp;-nicobar-islands</td>\n",
       "      <td>2020</td>\n",
       "      <td>2</td>\n",
       "      <td>744104</td>\n",
       "      <td>2</td>\n",
       "      <td>513.0</td>\n",
       "    </tr>\n",
       "    <tr>\n",
       "      <th>2</th>\n",
       "      <td>andaman-&amp;-nicobar-islands</td>\n",
       "      <td>2020</td>\n",
       "      <td>2</td>\n",
       "      <td>744101</td>\n",
       "      <td>1</td>\n",
       "      <td>282.0</td>\n",
       "    </tr>\n",
       "    <tr>\n",
       "      <th>3</th>\n",
       "      <td>andaman-&amp;-nicobar-islands</td>\n",
       "      <td>2020</td>\n",
       "      <td>3</td>\n",
       "      <td>744112</td>\n",
       "      <td>9</td>\n",
       "      <td>3432.0</td>\n",
       "    </tr>\n",
       "    <tr>\n",
       "      <th>4</th>\n",
       "      <td>andaman-&amp;-nicobar-islands</td>\n",
       "      <td>2020</td>\n",
       "      <td>3</td>\n",
       "      <td>744105</td>\n",
       "      <td>7</td>\n",
       "      <td>3948.0</td>\n",
       "    </tr>\n",
       "    <tr>\n",
       "      <th>...</th>\n",
       "      <td>...</td>\n",
       "      <td>...</td>\n",
       "      <td>...</td>\n",
       "      <td>...</td>\n",
       "      <td>...</td>\n",
       "      <td>...</td>\n",
       "    </tr>\n",
       "    <tr>\n",
       "      <th>5244</th>\n",
       "      <td>west-bengal</td>\n",
       "      <td>2023</td>\n",
       "      <td>4</td>\n",
       "      <td>700135</td>\n",
       "      <td>556</td>\n",
       "      <td>939622.0</td>\n",
       "    </tr>\n",
       "    <tr>\n",
       "      <th>5245</th>\n",
       "      <td>west-bengal</td>\n",
       "      <td>2023</td>\n",
       "      <td>4</td>\n",
       "      <td>700091</td>\n",
       "      <td>535</td>\n",
       "      <td>767163.0</td>\n",
       "    </tr>\n",
       "    <tr>\n",
       "      <th>5246</th>\n",
       "      <td>west-bengal</td>\n",
       "      <td>2023</td>\n",
       "      <td>4</td>\n",
       "      <td>700015</td>\n",
       "      <td>521</td>\n",
       "      <td>683025.0</td>\n",
       "    </tr>\n",
       "    <tr>\n",
       "      <th>5247</th>\n",
       "      <td>west-bengal</td>\n",
       "      <td>2023</td>\n",
       "      <td>4</td>\n",
       "      <td>700059</td>\n",
       "      <td>518</td>\n",
       "      <td>843045.0</td>\n",
       "    </tr>\n",
       "    <tr>\n",
       "      <th>5248</th>\n",
       "      <td>west-bengal</td>\n",
       "      <td>2023</td>\n",
       "      <td>4</td>\n",
       "      <td>711102</td>\n",
       "      <td>517</td>\n",
       "      <td>769517.0</td>\n",
       "    </tr>\n",
       "  </tbody>\n",
       "</table>\n",
       "<p>5249 rows × 6 columns</p>\n",
       "</div>"
      ],
      "text/plain": [
       "                          State  Year  Quarter Pincode  Transaction_count  \\\n",
       "0     andaman-&-nicobar-islands  2020        2  744301                  3   \n",
       "1     andaman-&-nicobar-islands  2020        2  744104                  2   \n",
       "2     andaman-&-nicobar-islands  2020        2  744101                  1   \n",
       "3     andaman-&-nicobar-islands  2020        3  744112                  9   \n",
       "4     andaman-&-nicobar-islands  2020        3  744105                  7   \n",
       "...                         ...   ...      ...     ...                ...   \n",
       "5244                west-bengal  2023        4  700135                556   \n",
       "5245                west-bengal  2023        4  700091                535   \n",
       "5246                west-bengal  2023        4  700015                521   \n",
       "5247                west-bengal  2023        4  700059                518   \n",
       "5248                west-bengal  2023        4  711102                517   \n",
       "\n",
       "      Transaction_amount  \n",
       "0                  565.0  \n",
       "1                  513.0  \n",
       "2                  282.0  \n",
       "3                 3432.0  \n",
       "4                 3948.0  \n",
       "...                  ...  \n",
       "5244            939622.0  \n",
       "5245            767163.0  \n",
       "5246            683025.0  \n",
       "5247            843045.0  \n",
       "5248            769517.0  \n",
       "\n",
       "[5249 rows x 6 columns]"
      ]
     },
     "execution_count": 182,
     "metadata": {},
     "output_type": "execute_result"
    }
   ],
   "source": [
    "Top_ins"
   ]
  },
  {
   "cell_type": "code",
   "execution_count": 183,
   "metadata": {},
   "outputs": [
    {
     "data": {
      "text/plain": [
       "array(['Andaman & Nicobar Islands', 'Andhra Pradesh', 'Arunachal Pradesh',\n",
       "       'Assam', 'Bihar', 'Chandigarh', 'Chhattisgarh',\n",
       "       'Dadra & Nagar Haveli & Daman & Diu', 'Delhi', 'Goa', 'Gujarat',\n",
       "       'Haryana', 'Himachal Pradesh', 'Jammu & Kashmir', 'Jharkhand',\n",
       "       'Karnataka', 'Kerala', 'Ladakh', 'Lakshadweep', 'Madhya Pradesh',\n",
       "       'Maharashtra', 'Manipur', 'Meghalaya', 'Mizoram', 'Nagaland',\n",
       "       'Odisha', 'Puducherry', 'Punjab', 'Rajasthan', 'Sikkim',\n",
       "       'Tamil Nadu', 'Telangana', 'Tripura', 'Uttar Pradesh',\n",
       "       'Uttarakhand', 'West Bengal'], dtype=object)"
      ]
     },
     "execution_count": 183,
     "metadata": {},
     "output_type": "execute_result"
    }
   ],
   "source": [
    "Agg_Trans['State']=Agg_Trans['State'].replace('andaman-&-nicobar-islands','Andaman & Nicobar Islands')\n",
    "\n",
    "Agg_Trans['State']=Agg_Trans['State'].str.title()\n",
    "Agg_Trans['State']=Agg_Trans['State'].str.replace('-',' ')\n",
    "Agg_Trans['State'].unique()"
   ]
  },
  {
   "cell_type": "code",
   "execution_count": 184,
   "metadata": {},
   "outputs": [],
   "source": [
    "def format_states(datafr):\n",
    "    datafr['State']=datafr['State'].str.replace('andaman-&-nicobar-islands','Andaman & Nicobar Islands')\n",
    "    datafr['State']=datafr['State'].str.replace('-',' ')\n",
    "    datafr['State']=datafr['State'].str.title()"
   ]
  },
  {
   "cell_type": "code",
   "execution_count": 185,
   "metadata": {},
   "outputs": [],
   "source": [
    "format_states(Agg_Trans)\n",
    "format_states(Agg_Users)\n",
    "format_states(Agg_Ins)\n",
    "format_states(Top_user)\n",
    "format_states(Top_trans)\n",
    "format_states(Top_ins)\n",
    "format_states(Map_trans)\n",
    "format_states(Map_ins)\n",
    "format_states(Map_users)"
   ]
  },
  {
   "cell_type": "code",
   "execution_count": null,
   "metadata": {},
   "outputs": [],
   "source": []
  },
  {
   "cell_type": "code",
   "execution_count": 3,
   "metadata": {},
   "outputs": [],
   "source": [
    "db=psycopg2.connect(host='localhost',\n",
    "                       user='postgres',\n",
    "                       password='27112002Cbm!',\n",
    "                       database='PhonePe_pulse',\n",
    "                       port='5432')\n",
    "cursor=db.cursor()"
   ]
  },
  {
   "cell_type": "code",
   "execution_count": 187,
   "metadata": {},
   "outputs": [],
   "source": [
    "\n",
    "create1 = '''CREATE TABLE if not exists aggregated_transaction (State VARCHAR(100),\n",
    "                                                                    Year INT,\n",
    "                                                                    Quarter INT,\n",
    "                                                                    Transaction_type VARCHAR(100),\n",
    "                                                                    Transaction_count BIGINT,\n",
    "                                                                    Transaction_amount BIGINT\n",
    "                                                                    )'''\n",
    "cursor.execute(create1)\n",
    "db.commit()\n",
    "\n",
    "insert1 = '''INSERT INTO aggregated_transaction (State, \n",
    "                                                Year, \n",
    "                                                Quarter, \n",
    "                                                Transaction_type, \n",
    "                                                Transaction_count, \n",
    "                                                Transaction_amount)\n",
    "                                                \n",
    "                                                values(%s,%s,%s,%s,%s,%s)'''\n",
    "data1=Agg_Trans.values.tolist()\n",
    "cursor.executemany(insert1,data1)\n",
    "db.commit()"
   ]
  },
  {
   "cell_type": "code",
   "execution_count": 188,
   "metadata": {},
   "outputs": [],
   "source": [
    "create2 = '''CREATE TABLE if not exists aggregated_users (State VARCHAR(100),\n",
    "                                                            Year INT,\n",
    "                                                            Quarter INT,\n",
    "                                                            Brand VARCHAR(100),\n",
    "                                                            Transaction_count BIGINT,\n",
    "                                                            Percentage FLOAT\n",
    "                                                            )'''\n",
    "cursor.execute(create2)\n",
    "db.commit()\n",
    "\n",
    "insert2 = '''INSERT INTO aggregated_users (State,\n",
    "                                            Year,\n",
    "                                            Quarter,\n",
    "                                            Brand,\n",
    "                                            Transaction_count,\n",
    "                                            Percentage)\n",
    "                                            \n",
    "                                            values(%s,%s,%s,%s,%s,%s)'''\n",
    "data2=Agg_Users.values.tolist()\n",
    "cursor.executemany(insert2,data2)\n",
    "db.commit()"
   ]
  },
  {
   "cell_type": "code",
   "execution_count": 189,
   "metadata": {},
   "outputs": [],
   "source": [
    "create3 = '''CREATE TABLE if not exists aggregated_insurance (State VARCHAR(100),\n",
    "                                                            Year INT,\n",
    "                                                            Quarter INT,\n",
    "                                                            Insurance_type VARCHAR(100),\n",
    "                                                            Insurance_count BIGINT,\n",
    "                                                            Insurance_amount BIGINT\n",
    "                                                            )'''\n",
    "cursor.execute(create3)\n",
    "db.commit()\n",
    "\n",
    "insert3 = '''INSERT INTO aggregated_insurance (State,\n",
    "                                            Year,\n",
    "                                            Quarter,\n",
    "                                            Insurance_type,\n",
    "                                            Insurance_count,\n",
    "                                            Insurance_amount)\n",
    "                                            \n",
    "                                            values(%s,%s,%s,%s,%s,%s)'''\n",
    "data3=Agg_Ins.values.tolist()\n",
    "cursor.executemany(insert3,data3)\n",
    "db.commit()"
   ]
  },
  {
   "cell_type": "code",
   "execution_count": 190,
   "metadata": {},
   "outputs": [],
   "source": [
    "create4 = '''CREATE TABLE if not exists map_transaction (State VARCHAR(100),\n",
    "                                                            Year INT,\n",
    "                                                            Quarter INT,\n",
    "                                                            District VARCHAR(100),\n",
    "                                                            Transaction_count BIGINT,\n",
    "                                                            Transaction_amount BIGINT\n",
    "                                                            )'''\n",
    "cursor.execute(create4)\n",
    "db.commit()\n",
    "\n",
    "insert4 = '''INSERT INTO map_transaction (State,\n",
    "                                            Year,\n",
    "                                            Quarter,\n",
    "                                            District,\n",
    "                                            Transaction_count,\n",
    "                                            Transaction_amount)\n",
    "                                            \n",
    "                                            values(%s,%s,%s,%s,%s,%s)'''\n",
    "data4=Map_trans.values.tolist()\n",
    "cursor.executemany(insert4,data4)\n",
    "db.commit()"
   ]
  },
  {
   "cell_type": "code",
   "execution_count": 191,
   "metadata": {},
   "outputs": [],
   "source": [
    "create5 = '''CREATE TABLE if not exists map_user (State VARCHAR(100),\n",
    "                                                            Year INT,\n",
    "                                                            Quarter INT,\n",
    "                                                            District VARCHAR(100),\n",
    "                                                            Registered_user BIGINT,\n",
    "                                                            App_opens BIGINT\n",
    "                                                            )'''\n",
    "cursor.execute(create5)\n",
    "db.commit()\n",
    "\n",
    "insert5 = '''INSERT INTO map_user (State,\n",
    "                                    Year,\n",
    "                                    Quarter,\n",
    "                                    District,\n",
    "                                    Registered_user,\n",
    "                                    App_opens)\n",
    "                                            \n",
    "                                    values(%s,%s,%s,%s,%s,%s)'''\n",
    "data5=Map_users.values.tolist()\n",
    "cursor.executemany(insert5,data5)\n",
    "db.commit()"
   ]
  },
  {
   "cell_type": "code",
   "execution_count": 192,
   "metadata": {},
   "outputs": [],
   "source": [
    "create6 = '''CREATE TABLE if not exists map_insurance (State VARCHAR(100),\n",
    "                                                        Year INT,\n",
    "                                                        Quarter INT,\n",
    "                                                        District VARCHAR(100),\n",
    "                                                        Transactional_count BIGINT,\n",
    "                                                        Transactional_amount BIGINT\n",
    "                                                        )'''\n",
    "cursor.execute(create6)\n",
    "db.commit()\n",
    "\n",
    "insert6 = '''INSERT INTO map_insurance (State,\n",
    "                                    Year,\n",
    "                                    Quarter,\n",
    "                                    District,\n",
    "                                    Transactional_count,\n",
    "                                    Transactional_amount)\n",
    "                                            \n",
    "                                    values(%s,%s,%s,%s,%s,%s)'''\n",
    "data6=Map_ins.values.tolist()\n",
    "cursor.executemany(insert6,data6)\n",
    "db.commit()"
   ]
  },
  {
   "cell_type": "code",
   "execution_count": 194,
   "metadata": {},
   "outputs": [],
   "source": [
    "create7 = '''CREATE TABLE if not exists top_transaction (State VARCHAR(100),\n",
    "                                                            Year INT,\n",
    "                                                            Quarter INT,\n",
    "                                                            Pincode INT,\n",
    "                                                            Transaction_count BIGINT,\n",
    "                                                            Transaction_amount BIGINT\n",
    "                                                            )'''\n",
    "cursor.execute(create7)\n",
    "db.commit()\n",
    "\n",
    "insert7 = '''INSERT INTO top_transaction (State,\n",
    "                                    Year,\n",
    "                                    Quarter,\n",
    "                                    Pincode,\n",
    "                                    Transaction_count,\n",
    "                                    Transaction_amount)\n",
    "                                            \n",
    "                                    values(%s,%s,%s,%s,%s,%s)'''\n",
    "data7=Top_trans.values.tolist()\n",
    "cursor.executemany(insert7,data7)\n",
    "db.commit()"
   ]
  },
  {
   "cell_type": "code",
   "execution_count": 197,
   "metadata": {},
   "outputs": [],
   "source": [
    "create8 = '''CREATE TABLE if not exists top_user (State VARCHAR(100),\n",
    "                                                            Year INT,\n",
    "                                                            Quarter INT,\n",
    "                                                            Pincode BIGINT,\n",
    "                                                            Registered_count BIGINT\n",
    "                                                            )'''\n",
    "cursor.execute(create8)\n",
    "db.commit()\n",
    "\n",
    "insert8 = '''INSERT INTO top_user (State,\n",
    "                                    Year,\n",
    "                                    Quarter,\n",
    "                                    Pincode,\n",
    "                                    Registered_count)\n",
    "                                            \n",
    "                                    values(%s,%s,%s,%s,%s)'''\n",
    "data8=Top_user.values.tolist()\n",
    "cursor.executemany(insert8,data8)\n",
    "db.commit()"
   ]
  },
  {
   "cell_type": "code",
   "execution_count": 198,
   "metadata": {},
   "outputs": [],
   "source": [
    "create9 = '''CREATE TABLE if not exists top_insurance (State VARCHAR(100),\n",
    "                                                            Year INT,\n",
    "                                                            Quarter INT,\n",
    "                                                            Pincode INT,\n",
    "                                                            Transaction_count BIGINT,\n",
    "                                                            Transaction_amount BIGINT\n",
    "                                                            )'''\n",
    "cursor.execute(create9)\n",
    "db.commit()\n",
    "\n",
    "insert9 = '''INSERT INTO top_insurance (State,\n",
    "                                    Year,\n",
    "                                    Quarter,\n",
    "                                    Pincode,\n",
    "                                    Transaction_count,\n",
    "                                    Transaction_amount)\n",
    "                                            \n",
    "                                    values(%s,%s,%s,%s,%s,%s)'''\n",
    "data9=Top_ins.values.tolist()\n",
    "cursor.executemany(insert9,data9)\n",
    "db.commit()"
   ]
  },
  {
   "cell_type": "code",
   "execution_count": 5,
   "metadata": {},
   "outputs": [
    {
     "data": {
      "text/html": [
       "<div>\n",
       "<style scoped>\n",
       "    .dataframe tbody tr th:only-of-type {\n",
       "        vertical-align: middle;\n",
       "    }\n",
       "\n",
       "    .dataframe tbody tr th {\n",
       "        vertical-align: top;\n",
       "    }\n",
       "\n",
       "    .dataframe thead th {\n",
       "        text-align: right;\n",
       "    }\n",
       "</style>\n",
       "<table border=\"1\" class=\"dataframe\">\n",
       "  <thead>\n",
       "    <tr style=\"text-align: right;\">\n",
       "      <th></th>\n",
       "      <th>District</th>\n",
       "      <th>Transactions_Count</th>\n",
       "      <th>Total_Amount</th>\n",
       "    </tr>\n",
       "  </thead>\n",
       "  <tbody>\n",
       "    <tr>\n",
       "      <th>0</th>\n",
       "      <td>bengaluru urban district</td>\n",
       "      <td>760201</td>\n",
       "      <td>907881888</td>\n",
       "    </tr>\n",
       "    <tr>\n",
       "      <th>1</th>\n",
       "      <td>pune district</td>\n",
       "      <td>276440</td>\n",
       "      <td>328603628</td>\n",
       "    </tr>\n",
       "    <tr>\n",
       "      <th>2</th>\n",
       "      <td>thane district</td>\n",
       "      <td>186024</td>\n",
       "      <td>200143122</td>\n",
       "    </tr>\n",
       "    <tr>\n",
       "      <th>3</th>\n",
       "      <td>rangareddy district</td>\n",
       "      <td>141188</td>\n",
       "      <td>179983062</td>\n",
       "    </tr>\n",
       "    <tr>\n",
       "      <th>4</th>\n",
       "      <td>mumbai suburban district</td>\n",
       "      <td>146084</td>\n",
       "      <td>150576200</td>\n",
       "    </tr>\n",
       "    <tr>\n",
       "      <th>5</th>\n",
       "      <td>medchal malkajgiri district</td>\n",
       "      <td>123109</td>\n",
       "      <td>148117802</td>\n",
       "    </tr>\n",
       "    <tr>\n",
       "      <th>6</th>\n",
       "      <td>chennai district</td>\n",
       "      <td>142201</td>\n",
       "      <td>142604881</td>\n",
       "    </tr>\n",
       "    <tr>\n",
       "      <th>7</th>\n",
       "      <td>jaipur district</td>\n",
       "      <td>112908</td>\n",
       "      <td>138958725</td>\n",
       "    </tr>\n",
       "    <tr>\n",
       "      <th>8</th>\n",
       "      <td>ernakulam district</td>\n",
       "      <td>92339</td>\n",
       "      <td>136581937</td>\n",
       "    </tr>\n",
       "    <tr>\n",
       "      <th>9</th>\n",
       "      <td>hyderabad district</td>\n",
       "      <td>122954</td>\n",
       "      <td>132720017</td>\n",
       "    </tr>\n",
       "  </tbody>\n",
       "</table>\n",
       "</div>"
      ],
      "text/plain": [
       "                      District Transactions_Count Total_Amount\n",
       "0     bengaluru urban district             760201    907881888\n",
       "1                pune district             276440    328603628\n",
       "2               thane district             186024    200143122\n",
       "3          rangareddy district             141188    179983062\n",
       "4     mumbai suburban district             146084    150576200\n",
       "5  medchal malkajgiri district             123109    148117802\n",
       "6             chennai district             142201    142604881\n",
       "7              jaipur district             112908    138958725\n",
       "8           ernakulam district              92339    136581937\n",
       "9           hyderabad district             122954    132720017"
      ]
     },
     "execution_count": 5,
     "metadata": {},
     "output_type": "execute_result"
    }
   ],
   "source": [
    "cursor.execute(f'''select district , sum(transactional_count) as Total_Count, sum(transactional_amount) as Total_amount from map_insurance \n",
    "                                group by district order by Total_amount desc limit 10''')\n",
    "df = pd.DataFrame(cursor.fetchall(), columns=['District', 'Transactions_Count','Total_Amount'])\n",
    "\n",
    "df"
   ]
  },
  {
   "cell_type": "code",
   "execution_count": 12,
   "metadata": {
    "colab": {
     "base_uri": "https://localhost:8080/",
     "height": 542
    },
    "id": "VGDlu8pZp5k2",
    "outputId": "6b8bb1c6-a0f7-4d0e-d8f2-8139b1e23d82"
   },
   "outputs": [
    {
     "ename": "AttributeError",
     "evalue": "module 'plotly' has no attribute 'choropleth'",
     "output_type": "error",
     "traceback": [
      "\u001b[1;31m---------------------------------------------------------------------------\u001b[0m",
      "\u001b[1;31mAttributeError\u001b[0m                            Traceback (most recent call last)",
      "Cell \u001b[1;32mIn[12], line 3\u001b[0m\n\u001b[0;32m      1\u001b[0m df \u001b[38;5;241m=\u001b[39m pd\u001b[38;5;241m.\u001b[39mread_csv(\u001b[38;5;124m\"\u001b[39m\u001b[38;5;124mhttps://gist.githubusercontent.com/jbrobst/56c13bbbf9d97d187fea01ca62ea5112/raw/e388c4cae20aa53cb5090210a42ebb9b765c0a36/active_cases_2020-07-17_0800.csv\u001b[39m\u001b[38;5;124m\"\u001b[39m)\n\u001b[1;32m----> 3\u001b[0m fig \u001b[38;5;241m=\u001b[39m \u001b[43mpx\u001b[49m\u001b[38;5;241;43m.\u001b[39;49m\u001b[43mchoropleth\u001b[49m(\n\u001b[0;32m      4\u001b[0m     df,\n\u001b[0;32m      5\u001b[0m     geojson\u001b[38;5;241m=\u001b[39m\u001b[38;5;124m\"\u001b[39m\u001b[38;5;124mhttps://gist.githubusercontent.com/jbrobst/56c13bbbf9d97d187fea01ca62ea5112/raw/e388c4cae20aa53cb5090210a42ebb9b765c0a36/india_states.geojson\u001b[39m\u001b[38;5;124m\"\u001b[39m,\n\u001b[0;32m      6\u001b[0m     \n\u001b[0;32m      7\u001b[0m     locations\u001b[38;5;241m=\u001b[39m\u001b[38;5;124m'\u001b[39m\u001b[38;5;124mstate\u001b[39m\u001b[38;5;124m'\u001b[39m,\n\u001b[0;32m      8\u001b[0m     color\u001b[38;5;241m=\u001b[39m\u001b[38;5;124m'\u001b[39m\u001b[38;5;124mactive cases\u001b[39m\u001b[38;5;124m'\u001b[39m,\n\u001b[0;32m      9\u001b[0m     color_continuous_scale\u001b[38;5;241m=\u001b[39m\u001b[38;5;124m'\u001b[39m\u001b[38;5;124mReds\u001b[39m\u001b[38;5;124m'\u001b[39m\n\u001b[0;32m     10\u001b[0m )\n\u001b[0;32m     12\u001b[0m fig\u001b[38;5;241m.\u001b[39mupdate_geos(fitbounds\u001b[38;5;241m=\u001b[39m\u001b[38;5;124m\"\u001b[39m\u001b[38;5;124mlocations\u001b[39m\u001b[38;5;124m\"\u001b[39m, visible\u001b[38;5;241m=\u001b[39m\u001b[38;5;28;01mFalse\u001b[39;00m)\n\u001b[0;32m     14\u001b[0m fig\u001b[38;5;241m.\u001b[39mshow()\n",
      "File \u001b[1;32mc:\\Users\\cbmit\\AppData\\Local\\Programs\\Python\\Python312\\Lib\\site-packages\\_plotly_utils\\importers.py:39\u001b[0m, in \u001b[0;36mrelative_import.<locals>.__getattr__\u001b[1;34m(import_name)\u001b[0m\n\u001b[0;32m     36\u001b[0m     class_module \u001b[38;5;241m=\u001b[39m importlib\u001b[38;5;241m.\u001b[39mimport_module(rel_module, parent_name)\n\u001b[0;32m     37\u001b[0m     \u001b[38;5;28;01mreturn\u001b[39;00m \u001b[38;5;28mgetattr\u001b[39m(class_module, class_name)\n\u001b[1;32m---> 39\u001b[0m \u001b[38;5;28;01mraise\u001b[39;00m \u001b[38;5;167;01mAttributeError\u001b[39;00m(\n\u001b[0;32m     40\u001b[0m     \u001b[38;5;124m\"\u001b[39m\u001b[38;5;124mmodule \u001b[39m\u001b[38;5;132;01m{__name__!r}\u001b[39;00m\u001b[38;5;124m has no attribute \u001b[39m\u001b[38;5;132;01m{name!r}\u001b[39;00m\u001b[38;5;124m\"\u001b[39m\u001b[38;5;241m.\u001b[39mformat(\n\u001b[0;32m     41\u001b[0m         name\u001b[38;5;241m=\u001b[39mimport_name, \u001b[38;5;18m__name__\u001b[39m\u001b[38;5;241m=\u001b[39mparent_name\n\u001b[0;32m     42\u001b[0m     )\n\u001b[0;32m     43\u001b[0m )\n",
      "\u001b[1;31mAttributeError\u001b[0m: module 'plotly' has no attribute 'choropleth'"
     ]
    }
   ],
   "source": []
  },
  {
   "cell_type": "code",
   "execution_count": 11,
   "metadata": {
    "colab": {
     "base_uri": "https://localhost:8080/",
     "height": 1000
    },
    "id": "m0--glgYqVYJ",
    "outputId": "bde91641-8391-4b0c-9ba2-a4d657150a95"
   },
   "outputs": [
    {
     "data": {
      "text/html": [
       "<div>\n",
       "<style scoped>\n",
       "    .dataframe tbody tr th:only-of-type {\n",
       "        vertical-align: middle;\n",
       "    }\n",
       "\n",
       "    .dataframe tbody tr th {\n",
       "        vertical-align: top;\n",
       "    }\n",
       "\n",
       "    .dataframe thead th {\n",
       "        text-align: right;\n",
       "    }\n",
       "</style>\n",
       "<table border=\"1\" class=\"dataframe\">\n",
       "  <thead>\n",
       "    <tr style=\"text-align: right;\">\n",
       "      <th></th>\n",
       "      <th>state</th>\n",
       "      <th>active cases</th>\n",
       "    </tr>\n",
       "  </thead>\n",
       "  <tbody>\n",
       "    <tr>\n",
       "      <th>0</th>\n",
       "      <td>Andaman &amp; Nicobar</td>\n",
       "      <td>47</td>\n",
       "    </tr>\n",
       "    <tr>\n",
       "      <th>1</th>\n",
       "      <td>Andhra Pradesh</td>\n",
       "      <td>18159</td>\n",
       "    </tr>\n",
       "    <tr>\n",
       "      <th>2</th>\n",
       "      <td>Arunachal Pradesh</td>\n",
       "      <td>387</td>\n",
       "    </tr>\n",
       "    <tr>\n",
       "      <th>3</th>\n",
       "      <td>Assam</td>\n",
       "      <td>6818</td>\n",
       "    </tr>\n",
       "    <tr>\n",
       "      <th>4</th>\n",
       "      <td>Bihar</td>\n",
       "      <td>7549</td>\n",
       "    </tr>\n",
       "    <tr>\n",
       "      <th>5</th>\n",
       "      <td>Chandigarh</td>\n",
       "      <td>164</td>\n",
       "    </tr>\n",
       "    <tr>\n",
       "      <th>6</th>\n",
       "      <td>Chhattisgarh</td>\n",
       "      <td>1260</td>\n",
       "    </tr>\n",
       "    <tr>\n",
       "      <th>7</th>\n",
       "      <td>Dadra and Nagar Haveli and Daman and Diu</td>\n",
       "      <td>179</td>\n",
       "    </tr>\n",
       "    <tr>\n",
       "      <th>8</th>\n",
       "      <td>Delhi</td>\n",
       "      <td>17407</td>\n",
       "    </tr>\n",
       "    <tr>\n",
       "      <th>9</th>\n",
       "      <td>Goa</td>\n",
       "      <td>1272</td>\n",
       "    </tr>\n",
       "    <tr>\n",
       "      <th>10</th>\n",
       "      <td>Gujarat</td>\n",
       "      <td>11289</td>\n",
       "    </tr>\n",
       "    <tr>\n",
       "      <th>11</th>\n",
       "      <td>Haryana</td>\n",
       "      <td>5495</td>\n",
       "    </tr>\n",
       "    <tr>\n",
       "      <th>12</th>\n",
       "      <td>Himachal Pradesh</td>\n",
       "      <td>382</td>\n",
       "    </tr>\n",
       "    <tr>\n",
       "      <th>13</th>\n",
       "      <td>Jammu &amp; Kashmir</td>\n",
       "      <td>5488</td>\n",
       "    </tr>\n",
       "    <tr>\n",
       "      <th>14</th>\n",
       "      <td>Jharkhand</td>\n",
       "      <td>2069</td>\n",
       "    </tr>\n",
       "    <tr>\n",
       "      <th>15</th>\n",
       "      <td>Karnataka</td>\n",
       "      <td>30661</td>\n",
       "    </tr>\n",
       "    <tr>\n",
       "      <th>16</th>\n",
       "      <td>Kerala</td>\n",
       "      <td>5376</td>\n",
       "    </tr>\n",
       "    <tr>\n",
       "      <th>17</th>\n",
       "      <td>Ladakh</td>\n",
       "      <td>176</td>\n",
       "    </tr>\n",
       "    <tr>\n",
       "      <th>18</th>\n",
       "      <td>Madhya Pradesh</td>\n",
       "      <td>5562</td>\n",
       "    </tr>\n",
       "    <tr>\n",
       "      <th>19</th>\n",
       "      <td>Maharashtra</td>\n",
       "      <td>114947</td>\n",
       "    </tr>\n",
       "    <tr>\n",
       "      <th>20</th>\n",
       "      <td>Manipur</td>\n",
       "      <td>635</td>\n",
       "    </tr>\n",
       "    <tr>\n",
       "      <th>21</th>\n",
       "      <td>Meghalaya</td>\n",
       "      <td>309</td>\n",
       "    </tr>\n",
       "    <tr>\n",
       "      <th>22</th>\n",
       "      <td>Mizoram</td>\n",
       "      <td>112</td>\n",
       "    </tr>\n",
       "    <tr>\n",
       "      <th>23</th>\n",
       "      <td>Nagaland</td>\n",
       "      <td>525</td>\n",
       "    </tr>\n",
       "    <tr>\n",
       "      <th>24</th>\n",
       "      <td>Odisha</td>\n",
       "      <td>4436</td>\n",
       "    </tr>\n",
       "    <tr>\n",
       "      <th>25</th>\n",
       "      <td>Puducherry</td>\n",
       "      <td>774</td>\n",
       "    </tr>\n",
       "    <tr>\n",
       "      <th>26</th>\n",
       "      <td>Punjab</td>\n",
       "      <td>2587</td>\n",
       "    </tr>\n",
       "    <tr>\n",
       "      <th>27</th>\n",
       "      <td>Rajasthan</td>\n",
       "      <td>6666</td>\n",
       "    </tr>\n",
       "    <tr>\n",
       "      <th>28</th>\n",
       "      <td>Sikkim</td>\n",
       "      <td>155</td>\n",
       "    </tr>\n",
       "    <tr>\n",
       "      <th>29</th>\n",
       "      <td>Tamil Nadu</td>\n",
       "      <td>46717</td>\n",
       "    </tr>\n",
       "    <tr>\n",
       "      <th>30</th>\n",
       "      <td>Telangana</td>\n",
       "      <td>13327</td>\n",
       "    </tr>\n",
       "    <tr>\n",
       "      <th>31</th>\n",
       "      <td>Tripura</td>\n",
       "      <td>676</td>\n",
       "    </tr>\n",
       "    <tr>\n",
       "      <th>32</th>\n",
       "      <td>Uttarakhand</td>\n",
       "      <td>937</td>\n",
       "    </tr>\n",
       "    <tr>\n",
       "      <th>33</th>\n",
       "      <td>Uttar Pradesh</td>\n",
       "      <td>15720</td>\n",
       "    </tr>\n",
       "    <tr>\n",
       "      <th>34</th>\n",
       "      <td>West Bengal</td>\n",
       "      <td>13679</td>\n",
       "    </tr>\n",
       "  </tbody>\n",
       "</table>\n",
       "</div>"
      ],
      "text/plain": [
       "                                       state  active cases\n",
       "0                          Andaman & Nicobar            47\n",
       "1                             Andhra Pradesh         18159\n",
       "2                          Arunachal Pradesh           387\n",
       "3                                      Assam          6818\n",
       "4                                      Bihar          7549\n",
       "5                                 Chandigarh           164\n",
       "6                               Chhattisgarh          1260\n",
       "7   Dadra and Nagar Haveli and Daman and Diu           179\n",
       "8                                      Delhi         17407\n",
       "9                                        Goa          1272\n",
       "10                                   Gujarat         11289\n",
       "11                                   Haryana          5495\n",
       "12                          Himachal Pradesh           382\n",
       "13                           Jammu & Kashmir          5488\n",
       "14                                 Jharkhand          2069\n",
       "15                                 Karnataka         30661\n",
       "16                                    Kerala          5376\n",
       "17                                    Ladakh           176\n",
       "18                            Madhya Pradesh          5562\n",
       "19                               Maharashtra        114947\n",
       "20                                   Manipur           635\n",
       "21                                 Meghalaya           309\n",
       "22                                   Mizoram           112\n",
       "23                                  Nagaland           525\n",
       "24                                    Odisha          4436\n",
       "25                                Puducherry           774\n",
       "26                                    Punjab          2587\n",
       "27                                 Rajasthan          6666\n",
       "28                                    Sikkim           155\n",
       "29                                Tamil Nadu         46717\n",
       "30                                 Telangana         13327\n",
       "31                                   Tripura           676\n",
       "32                               Uttarakhand           937\n",
       "33                             Uttar Pradesh         15720\n",
       "34                               West Bengal         13679"
      ]
     },
     "execution_count": 11,
     "metadata": {},
     "output_type": "execute_result"
    }
   ],
   "source": [
    "df"
   ]
  }
 ],
 "metadata": {
  "colab": {
   "provenance": []
  },
  "kernelspec": {
   "display_name": "Python 3 (ipykernel)",
   "language": "python",
   "name": "python3"
  },
  "language_info": {
   "codemirror_mode": {
    "name": "ipython",
    "version": 3
   },
   "file_extension": ".py",
   "mimetype": "text/x-python",
   "name": "python",
   "nbconvert_exporter": "python",
   "pygments_lexer": "ipython3",
   "version": "3.12.2"
  }
 },
 "nbformat": 4,
 "nbformat_minor": 1
}
